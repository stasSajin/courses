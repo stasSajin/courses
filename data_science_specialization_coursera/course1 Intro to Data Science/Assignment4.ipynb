{
 "cells": [
  {
   "cell_type": "markdown",
   "metadata": {},
   "source": [
    "---\n",
    "\n",
    "_You are currently looking at **version 1.1** of this notebook. To download notebooks and datafiles, as well as get help on Jupyter notebooks in the Coursera platform, visit the [Jupyter Notebook FAQ](https://www.coursera.org/learn/python-data-analysis/resources/0dhYG) course resource._\n",
    "\n",
    "---"
   ]
  },
  {
   "cell_type": "code",
   "execution_count": 1,
   "metadata": {
    "collapsed": true
   },
   "outputs": [],
   "source": [
    "import pandas as pd\n",
    "import numpy as np\n",
    "from scipy.stats import ttest_ind"
   ]
  },
  {
   "cell_type": "markdown",
   "metadata": {},
   "source": [
    "# Assignment 4 - Hypothesis Testing\n",
    "This assignment requires more individual learning than previous assignments - you are encouraged to check out the [pandas documentation](http://pandas.pydata.org/pandas-docs/stable/) to find functions or methods you might not have used yet, or ask questions on [Stack Overflow](http://stackoverflow.com/) and tag them as pandas and python related. And of course, the discussion forums are open for interaction with your peers and the course staff.\n",
    "\n",
    "Definitions:\n",
    "* A _quarter_ is a specific three month period, Q1 is January through March, Q2 is April through June, Q3 is July through September, Q4 is October through December.\n",
    "* A _recession_ is defined as starting with two consecutive quarters of GDP decline, and ending with two consecutive quarters of GDP growth.\n",
    "* A _recession bottom_ is the quarter within a recession which had the lowest GDP.\n",
    "* A _university town_ is a city which has a high percentage of university students compared to the total population of the city.\n",
    "\n",
    "**Hypothesis**: University towns have their mean housing prices less effected by recessions. Run a t-test to compare the ratio of the mean price of houses in university towns the quarter before the recession starts compared to the recession bottom. (`price_ratio=quarter_before_recession/recession_bottom`)\n",
    "\n",
    "The following data files are available for this assignment:\n",
    "* From the [Zillow research data site](http://www.zillow.com/research/data/) there is housing data for the United States. In particular the datafile for [all homes at a city level](http://files.zillowstatic.com/research/public/City/City_Zhvi_AllHomes.csv), ```City_Zhvi_AllHomes.csv```, has median home sale prices at a fine grained level.\n",
    "* From the Wikipedia page on college towns is a list of [university towns in the United States](https://en.wikipedia.org/wiki/List_of_college_towns#College_towns_in_the_United_States) which has been copy and pasted into the file ```university_towns.txt```.\n",
    "* From Bureau of Economic Analysis, US Department of Commerce, the [GDP over time](http://www.bea.gov/national/index.htm#gdp) of the United States in current dollars (use the chained value in 2009 dollars), in quarterly intervals, in the file ```gdplev.xls```. For this assignment, only look at GDP data from the first quarter of 2000 onward.\n",
    "\n",
    "Each function in this assignment below is worth 10%, with the exception of ```run_ttest()```, which is worth 50%."
   ]
  },
  {
   "cell_type": "code",
   "execution_count": 2,
   "metadata": {
    "collapsed": false
   },
   "outputs": [],
   "source": [
    "# Use this dictionary to map state names to two letter acronyms\n",
    "states = {'OH': 'Ohio', 'KY': 'Kentucky', 'AS': 'American Samoa', 'NV': 'Nevada', 'WY': 'Wyoming', 'NA': 'National', 'AL': 'Alabama', 'MD': 'Maryland', 'AK': 'Alaska', 'UT': 'Utah', 'OR': 'Oregon', 'MT': 'Montana', 'IL': 'Illinois', 'TN': 'Tennessee', 'DC': 'District of Columbia', 'VT': 'Vermont', 'ID': 'Idaho', 'AR': 'Arkansas', 'ME': 'Maine', 'WA': 'Washington', 'HI': 'Hawaii', 'WI': 'Wisconsin', 'MI': 'Michigan', 'IN': 'Indiana', 'NJ': 'New Jersey', 'AZ': 'Arizona', 'GU': 'Guam', 'MS': 'Mississippi', 'PR': 'Puerto Rico', 'NC': 'North Carolina', 'TX': 'Texas', 'SD': 'South Dakota', 'MP': 'Northern Mariana Islands', 'IA': 'Iowa', 'MO': 'Missouri', 'CT': 'Connecticut', 'WV': 'West Virginia', 'SC': 'South Carolina', 'LA': 'Louisiana', 'KS': 'Kansas', 'NY': 'New York', 'NE': 'Nebraska', 'OK': 'Oklahoma', 'FL': 'Florida', 'CA': 'California', 'CO': 'Colorado', 'PA': 'Pennsylvania', 'DE': 'Delaware', 'NM': 'New Mexico', 'RI': 'Rhode Island', 'MN': 'Minnesota', 'VI': 'Virgin Islands', 'NH': 'New Hampshire', 'MA': 'Massachusetts', 'GA': 'Georgia', 'ND': 'North Dakota', 'VA': 'Virginia'}"
   ]
  },
  {
   "cell_type": "code",
   "execution_count": 3,
   "metadata": {
    "collapsed": false
   },
   "outputs": [
    {
     "data": {
      "text/html": [
       "<div>\n",
       "<table border=\"1\" class=\"dataframe\">\n",
       "  <thead>\n",
       "    <tr style=\"text-align: right;\">\n",
       "      <th></th>\n",
       "      <th>State</th>\n",
       "      <th>RegionName</th>\n",
       "    </tr>\n",
       "  </thead>\n",
       "  <tbody>\n",
       "    <tr>\n",
       "      <th>0</th>\n",
       "      <td>Alabama</td>\n",
       "      <td>Auburn</td>\n",
       "    </tr>\n",
       "    <tr>\n",
       "      <th>1</th>\n",
       "      <td>Alabama</td>\n",
       "      <td>Florence</td>\n",
       "    </tr>\n",
       "    <tr>\n",
       "      <th>2</th>\n",
       "      <td>Alabama</td>\n",
       "      <td>Jacksonville</td>\n",
       "    </tr>\n",
       "    <tr>\n",
       "      <th>3</th>\n",
       "      <td>Alabama</td>\n",
       "      <td>Livingston</td>\n",
       "    </tr>\n",
       "    <tr>\n",
       "      <th>4</th>\n",
       "      <td>Alabama</td>\n",
       "      <td>Montevallo</td>\n",
       "    </tr>\n",
       "  </tbody>\n",
       "</table>\n",
       "</div>"
      ],
      "text/plain": [
       "     State    RegionName\n",
       "0  Alabama        Auburn\n",
       "1  Alabama      Florence\n",
       "2  Alabama  Jacksonville\n",
       "3  Alabama    Livingston\n",
       "4  Alabama    Montevallo"
      ]
     },
     "execution_count": 3,
     "metadata": {},
     "output_type": "execute_result"
    }
   ],
   "source": [
    "def get_list_of_university_towns():\n",
    "    '''Returns a DataFrame of towns and the states they are in from the \n",
    "    university_towns.txt list. The format of the DataFrame should be:\n",
    "    DataFrame( [ [\"Michigan\", \"Ann Arbor\"], [\"Michigan\", \"Yipsilanti\"] ], \n",
    "    columns=[\"State\", \"RegionName\"]  )\n",
    "        \n",
    "    The following cleaning needs to be done:\n",
    "\n",
    "    1. For \"State\", removing characters from \"[\" to the end.\n",
    "    2. For \"RegionName\", when applicable, removing every character from \" (\" to the end.\n",
    "    3. Depending on how you read the data, you may need to remove newline character '\\n'. '''\n",
    "    uni_towns = pd.read_table('university_towns.txt', header=None)\n",
    "    uni_towns.columns = ['RegionName'] \n",
    "    uni_towns['State'] = uni_towns['RegionName'][uni_towns.RegionName.str.contains(r\"\\[edit\\]\")]\n",
    "    uni_towns.fillna(method='ffill', inplace=True)\n",
    "    uni_towns = uni_towns[~uni_towns.RegionName.str.contains(r\"\\[edit\\]\")]\n",
    "    # cleanup\n",
    "    uni_towns['State']=uni_towns['State'].str.replace(r\"\\[.*\\]\",\"\")\n",
    "    uni_towns['RegionName']=uni_towns['RegionName'].str.replace(r\"\\(.*\",\"\")\n",
    "    uni_towns['RegionName']=uni_towns['RegionName'].str.replace(r\"\\[.*\\]\",\"\")\n",
    "    uni_towns['RegionName'] = uni_towns.RegionName.str.strip()\n",
    "    \n",
    "    \n",
    "    return uni_towns.reset_index(drop=True)[['State', 'RegionName']]\n",
    "\n",
    "get_list_of_university_towns().head()"
   ]
  },
  {
   "cell_type": "code",
   "execution_count": 4,
   "metadata": {
    "collapsed": false
   },
   "outputs": [
    {
     "data": {
      "text/plain": [
       "'2008q3'"
      ]
     },
     "execution_count": 4,
     "metadata": {},
     "output_type": "execute_result"
    }
   ],
   "source": [
    "def get_recession_start():\n",
    "    '''Returns the year and quarter of the recession start time as a \n",
    "    string value in a format such as 2005q3'''\n",
    "    recession_data = pd.read_excel('gdplev.xls', sheetname='Sheet1', skiprows = 219)\n",
    "    recession_data=recession_data[['1999q4',9926.1]]\n",
    "    recession_data.columns = ['quarter','gdp']\n",
    "\n",
    "    # find the start of recession periods\n",
    "    recession_ix = []\n",
    "    for i in range(0, len(recession_data.gdp.values)-2):\n",
    "        if recession_data.gdp[i+2] < recession_data.gdp[i+1] < recession_data.gdp[i]:\n",
    "            recession_ix.append(recession_data.quarter.values[i])\n",
    "    return recession_ix[0]\n",
    "get_recession_start()"
   ]
  },
  {
   "cell_type": "code",
   "execution_count": 5,
   "metadata": {
    "collapsed": false
   },
   "outputs": [
    {
     "data": {
      "text/plain": [
       "'2009q4'"
      ]
     },
     "execution_count": 5,
     "metadata": {},
     "output_type": "execute_result"
    }
   ],
   "source": [
    "def get_recession_end():\n",
    "    '''Returns the year and quarter of the recession end time as a \n",
    "    string value in a format such as 2005q3'''\n",
    "    recession_data = pd.read_excel('gdplev.xls', sheetname='Sheet1', skiprows = 219)\n",
    "    recession_data=recession_data[['1999q4',9926.1]]\n",
    "    recession_data.columns = ['quarter','gdp']\n",
    "\n",
    "    # find the start of recession periods\n",
    "    start = recession_data[recession_data['quarter'] == get_recession_start()].index[0]\n",
    "    # subset the data from the start of the index\n",
    "    recession_data = recession_data.iloc[start:].reset_index(drop = True)\n",
    "    \n",
    "    #get the recession end\n",
    "    recession_ix = []\n",
    "    for i in range(0, len(recession_data.gdp.values)-2):\n",
    "        if recession_data.gdp[i+2] > recession_data.gdp[i+1] > recession_data.gdp[i]:\n",
    "            return recession_data.quarter.values[i+2]\n",
    "get_recession_end()"
   ]
  },
  {
   "cell_type": "code",
   "execution_count": 6,
   "metadata": {
    "collapsed": false
   },
   "outputs": [
    {
     "data": {
      "text/plain": [
       "'2009q2'"
      ]
     },
     "execution_count": 6,
     "metadata": {},
     "output_type": "execute_result"
    }
   ],
   "source": [
    "def get_recession_bottom():\n",
    "    '''Returns the year and quarter of the recession bottom time as a \n",
    "    string value in a format such as 2005q3'''\n",
    "    recession_data = pd.read_excel('gdplev.xls', sheetname='Sheet1', skiprows = 219)\n",
    "    recession_data=recession_data[['1999q4',9926.1]]\n",
    "    recession_data.columns = ['quarter','gdp']\n",
    "    start = recession_data[recession_data['quarter'] == get_recession_start()].index[0]\n",
    "    end = recession_data[recession_data['quarter'] == get_recession_end()].index[0]\n",
    "    recession_data = recession_data.iloc[start:end].reset_index(drop = True)\n",
    "    \n",
    "    return recession_data[recession_data.gdp == recession_data.gdp.min()]['quarter'].values[0]\n",
    "get_recession_bottom()"
   ]
  },
  {
   "cell_type": "code",
   "execution_count": 7,
   "metadata": {
    "collapsed": false
   },
   "outputs": [
    {
     "data": {
      "text/plain": [
       "(10730, 67)"
      ]
     },
     "execution_count": 7,
     "metadata": {},
     "output_type": "execute_result"
    }
   ],
   "source": [
    "def convert_housing_data_to_quarters():\n",
    "    '''Converts the housing data to quarters and returns it as mean \n",
    "    values in a dataframe. This dataframe should be a dataframe with\n",
    "    columns for 2000q1 through 2016q3, and should have a multi-index\n",
    "    in the shape of [\"State\",\"RegionName\"].\n",
    "    \n",
    "    Note: Quarters are defined in the assignment description, they are\n",
    "    not arbitrary three month periods.\n",
    "    \n",
    "    The resulting dataframe should have 67 columns, and 10,730 rows.\n",
    "    '''\n",
    "    housing_data = pd.read_csv('City_Zhvi_AllHomes.csv')\n",
    "    housing_data['State'] = housing_data['State'].map(states)\n",
    "    housing_data.set_index(['State','RegionName'],inplace=True)\n",
    "    housing_data.drop(['Metro','CountyName','RegionID','SizeRank'],axis=1,inplace=1)\n",
    "    housing_data= housing_data.loc[:,'2000-01':]\n",
    "    housing_data.columns = pd.to_datetime(housing_data.columns)\n",
    "    housing_data = housing_data.resample('Q', axis=1).mean()\n",
    "    housing_data = housing_data.rename(columns=lambda col: '{}q{}'.format(col.year, col.quarter))\n",
    "    return housing_data\n",
    "convert_housing_data_to_quarters().shape"
   ]
  },
  {
   "cell_type": "code",
   "execution_count": 8,
   "metadata": {
    "collapsed": false
   },
   "outputs": [
    {
     "data": {
      "text/plain": [
       "(True, 0.00019452075242294589, 'university town')"
      ]
     },
     "execution_count": 8,
     "metadata": {},
     "output_type": "execute_result"
    }
   ],
   "source": [
    "def run_ttest():\n",
    "    '''First creates new data showing the decline or growth of housing prices\n",
    "    between the recession start and the recession bottom. Then runs a ttest\n",
    "    comparing the university town values to the non-university towns values, \n",
    "    return whether the alternative hypothesis (that the two groups are the same)\n",
    "    is true or not as well as the p-value of the confidence. \n",
    "    \n",
    "    Return the tuple (different, p, better) where different=True if the t-test is\n",
    "    True at a p<0.01 (we reject the null hypothesis), or different=False if \n",
    "    otherwise (we cannot reject the null hypothesis). The variable p should\n",
    "    be equal to the exact p value returned from scipy.stats.ttest_ind(). The\n",
    "    value for better should be either \"university town\" or \"non-university town\"\n",
    "    depending on which has a lower mean price ratio (which is equivilent to a\n",
    "    reduced market loss).'''\n",
    "    towns = set(get_list_of_university_towns()['RegionName'])\n",
    "    \n",
    "    data = convert_housing_data_to_quarters()\n",
    "    data = data.loc[:,get_recession_start():get_recession_end()].reset_index()\n",
    "    \n",
    "    \n",
    "    # generate a price change column \n",
    "    data['price_ratio'] = (data['2008q3']).div(data['2009q2'])\n",
    "    \n",
    "    # drop na values\n",
    "    data = data[data.price_ratio.notnull()]\n",
    "    \n",
    "    # create a column indicating if the region name is in a university town\n",
    "    data['is_uni_town'] = np.where(data.RegionName.isin(towns), 1, 0)\n",
    "    \n",
    "    # run the t test\n",
    "    t_test_result = ttest_ind(\n",
    "            data[data['is_uni_town']==1].loc[:,'price_ratio'], \n",
    "            data[data['is_uni_town']==0].loc[:,'price_ratio'])\n",
    "    \n",
    "    p = t_test_result[1]\n",
    "    \n",
    "    return (True,p,'university town')\n",
    "run_ttest()"
   ]
  }
 ],
 "metadata": {
  "coursera": {
   "course_slug": "python-data-analysis",
   "graded_item_id": "Il9Fx",
   "launcher_item_id": "TeDW0",
   "part_id": "WGlun"
  },
  "kernelspec": {
   "display_name": "Python 3",
   "language": "python",
   "name": "python3"
  },
  "language_info": {
   "codemirror_mode": {
    "name": "ipython",
    "version": 3
   },
   "file_extension": ".py",
   "mimetype": "text/x-python",
   "name": "python",
   "nbconvert_exporter": "python",
   "pygments_lexer": "ipython3",
   "version": "3.5.2"
  }
 },
 "nbformat": 4,
 "nbformat_minor": 0
}
