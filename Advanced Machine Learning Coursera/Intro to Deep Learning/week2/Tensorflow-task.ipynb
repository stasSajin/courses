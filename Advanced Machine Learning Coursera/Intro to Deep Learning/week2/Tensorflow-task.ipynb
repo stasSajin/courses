{
 "cells": [
  {
   "cell_type": "markdown",
   "metadata": {
    "slideshow": {
     "slide_type": "slide"
    }
   },
   "source": [
    "# Going deeper with Tensorflow\n",
    "\n",
    "In this video, we're going to study the tools you'll use to build deep learning models. Namely, [Tensorflow](https://www.tensorflow.org/).\n",
    "\n",
    "If you're running this notebook outside the course environment, you'll need to install tensorflow:\n",
    "* `pip install tensorflow` should install cpu-only TF on Linux & Mac OS\n",
    "* If you want GPU support from offset, see [TF install page](https://www.tensorflow.org/install/)"
   ]
  },
  {
   "cell_type": "code",
   "execution_count": 1,
   "metadata": {
    "collapsed": true
   },
   "outputs": [],
   "source": [
    "import sys\n",
    "sys.path.append(\"..\")\n",
    "import grading"
   ]
  },
  {
   "cell_type": "markdown",
   "metadata": {},
   "source": [
    "# Visualization"
   ]
  },
  {
   "cell_type": "markdown",
   "metadata": {},
   "source": [
    "Plase note that if you are running on the Coursera platform, you won't be able to access the tensorboard instance due to the network setup there. If you run the notebook locally, you should be able to access TensorBoard on http://127.0.0.1:7007/"
   ]
  },
  {
   "cell_type": "code",
   "execution_count": 2,
   "metadata": {},
   "outputs": [
    {
     "name": "stdout",
     "output_type": "stream",
     "text": [
      "/bin/sh: 1: killall: not found\r\n"
     ]
    }
   ],
   "source": [
    "! killall tensorboard\n",
    "import os\n",
    "os.system(\"tensorboard --logdir=/tmp/tboard --port=7007 &\");"
   ]
  },
  {
   "cell_type": "code",
   "execution_count": 3,
   "metadata": {
    "collapsed": true
   },
   "outputs": [],
   "source": [
    "import tensorflow as tf\n",
    "s = tf.InteractiveSession()"
   ]
  },
  {
   "cell_type": "markdown",
   "metadata": {},
   "source": [
    "# Warming up\n",
    "For starters, let's implement a python function that computes the sum of squares of numbers from 0 to N-1."
   ]
  },
  {
   "cell_type": "code",
   "execution_count": 4,
   "metadata": {
    "collapsed": true
   },
   "outputs": [],
   "source": [
    "import numpy as np\n",
    "def sum_sin(N):\n",
    "    return np.sum(np.arange(N)**2)"
   ]
  },
  {
   "cell_type": "code",
   "execution_count": 5,
   "metadata": {},
   "outputs": [
    {
     "name": "stdout",
     "output_type": "stream",
     "text": [
      "CPU times: user 204 ms, sys: 2.58 s, total: 2.78 s\n",
      "Wall time: 3.23 s\n"
     ]
    },
    {
     "data": {
      "text/plain": [
       "662921401752298880"
      ]
     },
     "execution_count": 5,
     "metadata": {},
     "output_type": "execute_result"
    }
   ],
   "source": [
    "%%time\n",
    "sum_sin(10**8)"
   ]
  },
  {
   "cell_type": "markdown",
   "metadata": {},
   "source": [
    "# Tensoflow teaser\n",
    "\n",
    "Doing the very same thing"
   ]
  },
  {
   "cell_type": "code",
   "execution_count": 6,
   "metadata": {
    "collapsed": true
   },
   "outputs": [],
   "source": [
    "# An integer parameter\n",
    "N = tf.placeholder('int64', name=\"input_to_your_function\")\n",
    "\n",
    "# A recipe on how to produce the same result\n",
    "result = tf.reduce_sum(tf.range(N)**2)"
   ]
  },
  {
   "cell_type": "code",
   "execution_count": 7,
   "metadata": {},
   "outputs": [
    {
     "data": {
      "text/plain": [
       "<tf.Tensor 'Sum:0' shape=() dtype=int64>"
      ]
     },
     "execution_count": 7,
     "metadata": {},
     "output_type": "execute_result"
    }
   ],
   "source": [
    "result"
   ]
  },
  {
   "cell_type": "code",
   "execution_count": 8,
   "metadata": {},
   "outputs": [
    {
     "name": "stdout",
     "output_type": "stream",
     "text": [
      "CPU times: user 500 ms, sys: 1.2 s, total: 1.7 s\n",
      "Wall time: 1.75 s\n"
     ]
    },
    {
     "data": {
      "text/plain": [
       "662921401752298880"
      ]
     },
     "execution_count": 8,
     "metadata": {},
     "output_type": "execute_result"
    }
   ],
   "source": [
    "%%time\n",
    "result.eval({N: 10**8})"
   ]
  },
  {
   "cell_type": "code",
   "execution_count": 9,
   "metadata": {
    "collapsed": true
   },
   "outputs": [],
   "source": [
    "writer = tf.summary.FileWriter(\"/tmp/tboard\", graph=s.graph)"
   ]
  },
  {
   "cell_type": "markdown",
   "metadata": {},
   "source": [
    "# How does it work?\n",
    "1. Define placeholders where you'll send inputs\n",
    "2. Make symbolic graph: a recipe for mathematical transformation of those placeholders\n",
    "3. Compute outputs of your graph with particular values for each placeholder\n",
    "  * `output.eval({placeholder:value})`\n",
    "  * `s.run(output, {placeholder:value})`\n",
    "\n",
    "So far there are two main entities: \"placeholder\" and \"transformation\"\n",
    "* Both can be numbers, vectors, matrices, tensors, etc.\n",
    "* Both can be int32/64, floats, booleans (uint8) of various size.\n",
    "\n",
    "* You can define new transformations as an arbitrary operation on placeholders and other transformations\n",
    " * `tf.reduce_sum(tf.arange(N)**2)` are 3 sequential transformations of placeholder `N`\n",
    " * There's a tensorflow symbolic version for every numpy function\n",
    "   * `a+b, a/b, a**b, ...` behave just like in numpy\n",
    "   * `np.mean` -> `tf.reduce_mean`\n",
    "   * `np.arange` -> `tf.range`\n",
    "   * `np.cumsum` -> `tf.cumsum`\n",
    "   * If if you can't find the op you need, see the [docs](https://www.tensorflow.org/api_docs/python).\n",
    "   \n",
    "`tf.contrib` has many high-level features, may be worth a look."
   ]
  },
  {
   "cell_type": "code",
   "execution_count": 10,
   "metadata": {
    "collapsed": true
   },
   "outputs": [],
   "source": [
    "with tf.name_scope(\"Placeholders_examples\"):\n",
    "    # Default placeholder that can be arbitrary float32\n",
    "    # scalar, vertor, matrix, etc.\n",
    "    arbitrary_input = tf.placeholder('float32')\n",
    "\n",
    "    # Input vector of arbitrary length\n",
    "    input_vector = tf.placeholder('float32', shape=(None,))\n",
    "\n",
    "    # Input vector that _must_ have 10 elements and integer type\n",
    "    fixed_vector = tf.placeholder('int32', shape=(10,))\n",
    "\n",
    "    # Matrix of arbitrary n_rows and 15 columns\n",
    "    # (e.g. a minibatch your data table)\n",
    "    input_matrix = tf.placeholder('float32', shape=(None, 15))\n",
    "    \n",
    "    # You can generally use None whenever you don't need a specific shape\n",
    "    input1 = tf.placeholder('float64', shape=(None, 100, None))\n",
    "    input2 = tf.placeholder('int32', shape=(None, None, 3, 224, 224))\n",
    "\n",
    "    # elementwise multiplication\n",
    "    double_the_vector = input_vector*2\n",
    "\n",
    "    # elementwise cosine\n",
    "    elementwise_cosine = tf.cos(input_vector)\n",
    "\n",
    "    # difference between squared vector and vector itself plus one\n",
    "    vector_squares = input_vector**2 - input_vector + 1"
   ]
  },
  {
   "cell_type": "code",
   "execution_count": 11,
   "metadata": {
    "collapsed": true
   },
   "outputs": [],
   "source": [
    "my_vector =  tf.placeholder('float32', shape=(None,), name=\"VECTOR_1\")\n",
    "my_vector2 = tf.placeholder('float32', shape=(None,))\n",
    "my_transformation = my_vector * my_vector2 / (tf.sin(my_vector) + 1)"
   ]
  },
  {
   "cell_type": "code",
   "execution_count": 12,
   "metadata": {},
   "outputs": [
    {
     "name": "stdout",
     "output_type": "stream",
     "text": [
      "Tensor(\"truediv:0\", shape=(?,), dtype=float32)\n"
     ]
    }
   ],
   "source": [
    "print(my_transformation)"
   ]
  },
  {
   "cell_type": "code",
   "execution_count": 13,
   "metadata": {},
   "outputs": [
    {
     "name": "stdout",
     "output_type": "stream",
     "text": [
      "[ 0.  1.  2.  3.  4.]\n"
     ]
    },
    {
     "data": {
      "text/plain": [
       "array([ 0.        ,  1.62913239,  2.09501147,  2.62899613,  0.        ], dtype=float32)"
      ]
     },
     "execution_count": 13,
     "metadata": {},
     "output_type": "execute_result"
    }
   ],
   "source": [
    "dummy = np.arange(5).astype('float32')\n",
    "print(dummy)\n",
    "my_transformation.eval({my_vector:dummy, my_vector2:dummy[::-1]})"
   ]
  },
  {
   "cell_type": "code",
   "execution_count": 14,
   "metadata": {
    "collapsed": true
   },
   "outputs": [],
   "source": [
    "writer.add_graph(my_transformation.graph)\n",
    "writer.flush()"
   ]
  },
  {
   "cell_type": "markdown",
   "metadata": {},
   "source": [
    "TensorBoard allows writing scalars, images, audio, histogram. You can read more on tensorboard usage [here](https://www.tensorflow.org/get_started/graph_viz)."
   ]
  },
  {
   "cell_type": "markdown",
   "metadata": {},
   "source": [
    "# Summary\n",
    "* Tensorflow is based on computation graphs\n",
    "* The graphs consist of placehlders and transformations"
   ]
  },
  {
   "cell_type": "markdown",
   "metadata": {},
   "source": [
    "# Mean squared error\n",
    "\n",
    "Your assignment is to implement mean squared error in tensorflow."
   ]
  },
  {
   "cell_type": "code",
   "execution_count": 15,
   "metadata": {
    "collapsed": true
   },
   "outputs": [],
   "source": [
    "with tf.name_scope(\"MSE\"):\n",
    "    y_true = tf.placeholder(\"float32\", shape=(None,), name=\"y_true\")\n",
    "    y_predicted = tf.placeholder(\"float32\", shape=(None,), name=\"y_predicted\")\n",
    "    # Your code goes here\n",
    "    # You want to use tf.reduce_mean\n",
    "    mse = tf.reduce_mean(tf.square(tf.subtract(y_true, y_predicted)))\n",
    "def compute_mse(vector1, vector2):\n",
    "    return mse.eval({y_true: vector1, y_predicted: vector2})"
   ]
  },
  {
   "cell_type": "code",
   "execution_count": 16,
   "metadata": {
    "collapsed": true
   },
   "outputs": [],
   "source": [
    "writer.add_graph(mse.graph)\n",
    "writer.flush()"
   ]
  },
  {
   "cell_type": "markdown",
   "metadata": {},
   "source": [
    "Tests and result submission. Please use the credentials obtained from the Coursera assignment page."
   ]
  },
  {
   "cell_type": "code",
   "execution_count": 17,
   "metadata": {
    "collapsed": true
   },
   "outputs": [],
   "source": [
    "import submit"
   ]
  },
  {
   "cell_type": "code",
   "execution_count": 18,
   "metadata": {},
   "outputs": [
    {
     "name": "stdout",
     "output_type": "stream",
     "text": [
      "Submitted to Coursera platform. See results on assignment page!\n"
     ]
    }
   ],
   "source": [
    "submit.submit_mse(compute_mse, 'sajin.stanislav@gmail.com', 'h3e6tAL53cpgeauE')"
   ]
  },
  {
   "cell_type": "markdown",
   "metadata": {},
   "source": [
    "# Variables\n",
    "\n",
    "The inputs and transformations have no value outside function call. This isn't too comfortable if you want your model to have parameters (e.g. network weights) that are always present, but can change their value over time.\n",
    "\n",
    "Tensorflow solves this with `tf.Variable` objects.\n",
    "* You can assign variable a value at any time in your graph\n",
    "* Unlike placeholders, there's no need to explicitly pass values to variables when `s.run(...)`-ing\n",
    "* You can use variables the same way you use transformations \n",
    " "
   ]
  },
  {
   "cell_type": "code",
   "execution_count": 19,
   "metadata": {
    "collapsed": true
   },
   "outputs": [],
   "source": [
    "# Creating a shared variable\n",
    "shared_vector_1 = tf.Variable(initial_value=np.ones(5),\n",
    "                              name=\"example_variable\")"
   ]
  },
  {
   "cell_type": "code",
   "execution_count": 20,
   "metadata": {},
   "outputs": [
    {
     "name": "stdout",
     "output_type": "stream",
     "text": [
      "Initial value [ 1.  1.  1.  1.  1.]\n"
     ]
    }
   ],
   "source": [
    "# Initialize variable(s) with initial values\n",
    "s.run(tf.global_variables_initializer())\n",
    "\n",
    "# Evaluating shared variable (outside symbolicd graph)\n",
    "print(\"Initial value\", s.run(shared_vector_1))\n",
    "\n",
    "# Within symbolic graph you use them just\n",
    "# as any other inout or transformation, not \"get value\" needed"
   ]
  },
  {
   "cell_type": "code",
   "execution_count": 21,
   "metadata": {},
   "outputs": [
    {
     "name": "stdout",
     "output_type": "stream",
     "text": [
      "New value [ 0.  1.  2.  3.  4.]\n"
     ]
    }
   ],
   "source": [
    "# Setting a new value\n",
    "s.run(shared_vector_1.assign(np.arange(5)))\n",
    "\n",
    "# Getting that new value\n",
    "print(\"New value\", s.run(shared_vector_1))"
   ]
  },
  {
   "cell_type": "markdown",
   "metadata": {},
   "source": [
    "# tf.gradients - why graphs matter\n",
    "* Tensorflow can compute derivatives and gradients automatically using the computation graph\n",
    "* True to its name it can manage matrix derivatives\n",
    "* Gradients are computed as a product of elementary derivatives via the chain rule:\n",
    "\n",
    "$$ {\\partial f(g(x)) \\over \\partial x} = {\\partial f(g(x)) \\over \\partial g(x)}\\cdot {\\partial g(x) \\over \\partial x} $$\n",
    "\n",
    "It can get you the derivative of any graph as long as it knows how to differentiate elementary operations"
   ]
  },
  {
   "cell_type": "code",
   "execution_count": 22,
   "metadata": {
    "collapsed": true
   },
   "outputs": [],
   "source": [
    "my_scalar = tf.placeholder('float32')\n",
    "\n",
    "scalar_squared = my_scalar**2\n",
    "\n",
    "# A derivative of scalar_squared by my_scalar\n",
    "derivative = tf.gradients(scalar_squared, [my_scalar, ])"
   ]
  },
  {
   "cell_type": "code",
   "execution_count": 23,
   "metadata": {},
   "outputs": [
    {
     "data": {
      "text/plain": [
       "[<tf.Tensor 'gradients/pow_1_grad/Reshape:0' shape=<unknown> dtype=float32>]"
      ]
     },
     "execution_count": 23,
     "metadata": {},
     "output_type": "execute_result"
    }
   ],
   "source": [
    "derivative"
   ]
  },
  {
   "cell_type": "code",
   "execution_count": 24,
   "metadata": {},
   "outputs": [
    {
     "data": {
      "image/png": "[encoded data removed]",
      "text/plain": [
       "<matplotlib.figure.Figure at 0x7fda64123400>"
      ]
     },
     "metadata": {},
     "output_type": "display_data"
    }
   ],
   "source": [
    "import matplotlib.pyplot as plt\n",
    "%matplotlib inline\n",
    "\n",
    "x = np.linspace(-3, 3)\n",
    "x_squared, x_squared_der = s.run([scalar_squared, derivative[0]],\n",
    "                                 {my_scalar:x})\n",
    "\n",
    "plt.plot(x, x_squared,label=\"$x^2$\")\n",
    "plt.plot(x, x_squared_der, label=r\"$\\frac{dx^2}{dx}$\")\n",
    "plt.legend();"
   ]
  },
  {
   "cell_type": "markdown",
   "metadata": {},
   "source": [
    "# Why that rocks"
   ]
  },
  {
   "cell_type": "code",
   "execution_count": 25,
   "metadata": {
    "collapsed": true
   },
   "outputs": [],
   "source": [
    "my_vector = tf.placeholder('float32', [None])\n",
    "# Compute the gradient of the next weird function over my_scalar and my_vector\n",
    "# Warning! Trying to understand the meaning of that function may result in permanent brain damage\n",
    "weird_psychotic_function = tf.reduce_mean(\n",
    "    (my_vector+my_scalar)**(1+tf.nn.moments(my_vector,[0])[1]) + \n",
    "    1./ tf.atan(my_scalar))/(my_scalar**2 + 1) + 0.01*tf.sin(\n",
    "    2*my_scalar**1.5)*(tf.reduce_sum(my_vector)* my_scalar**2\n",
    "                      )*tf.exp((my_scalar-4)**2)/(\n",
    "    1+tf.exp((my_scalar-4)**2))*(1.-(tf.exp(-(my_scalar-4)**2)\n",
    "                                    )/(1+tf.exp(-(my_scalar-4)**2)))**2\n",
    "\n",
    "der_by_scalar = tf.gradients(weird_psychotic_function, my_scalar)\n",
    "der_by_vector = tf.gradients(weird_psychotic_function, my_vector)"
   ]
  },
  {
   "cell_type": "code",
   "execution_count": 26,
   "metadata": {},
   "outputs": [
    {
     "data": {
      "image/png": "[encoded data removed]",
      "text/plain": [
       "<matplotlib.figure.Figure at 0x7fda64097da0>"
      ]
     },
     "metadata": {},
     "output_type": "display_data"
    }
   ],
   "source": [
    "# Plotting the derivative\n",
    "scalar_space = np.linspace(1, 7, 100)\n",
    "\n",
    "y = [s.run(weird_psychotic_function, {my_scalar:x, my_vector:[1, 2, 3]})\n",
    "     for x in scalar_space]\n",
    "\n",
    "plt.plot(scalar_space, y, label='function')\n",
    "\n",
    "y_der_by_scalar = [s.run(der_by_scalar,\n",
    "                         {my_scalar:x, my_vector:[1, 2, 3]})\n",
    "                   for x in scalar_space]\n",
    "\n",
    "plt.plot(scalar_space, y_der_by_scalar, label='derivative')\n",
    "plt.grid()\n",
    "plt.legend();"
   ]
  },
  {
   "cell_type": "markdown",
   "metadata": {},
   "source": [
    "# Almost done - optimizers\n",
    "\n",
    "While you can perform gradient descent by hand with automatic grads from above, tensorflow also has some optimization methods implemented for you. Recall momentum & rmsprop?"
   ]
  },
  {
   "cell_type": "code",
   "execution_count": 27,
   "metadata": {
    "collapsed": true
   },
   "outputs": [],
   "source": [
    "y_guess = tf.Variable(np.zeros(2, dtype='float32'))\n",
    "y_true = tf.range(1, 3, dtype='float32')\n",
    "loss = tf.reduce_mean((y_guess - y_true + tf.random_normal([2]))**2) \n",
    "#loss = tf.reduce_mean((y_guess - y_true)**2) \n",
    "optimizer = tf.train.MomentumOptimizer(0.01, 0.5).minimize(\n",
    "    loss, var_list=y_guess)"
   ]
  },
  {
   "cell_type": "code",
   "execution_count": 28,
   "metadata": {},
   "outputs": [
    {
     "data": {
      "image/png": "[encoded data removed]",
      "text/plain": [
       "<matplotlib.figure.Figure at 0x7fdae8876c50>"
      ]
     },
     "metadata": {},
     "output_type": "display_data"
    }
   ],
   "source": [
    "from matplotlib import animation, rc\n",
    "import matplotlib_utils\n",
    "from IPython.display import HTML, display_html\n",
    "\n",
    "fig, ax = plt.subplots()\n",
    "y_true_value = s.run(y_true)\n",
    "level_x = np.arange(0, 2, 0.02)\n",
    "level_y = np.arange(0, 3, 0.02)\n",
    "X, Y = np.meshgrid(level_x, level_y)\n",
    "Z = (X - y_true_value[0])**2 + (Y - y_true_value[1])**2\n",
    "ax.set_xlim(-0.02, 2)\n",
    "ax.set_ylim(-0.02, 3)\n",
    "s.run(tf.global_variables_initializer())\n",
    "ax.scatter(*s.run(y_true), c='red')\n",
    "contour = ax.contour(X, Y, Z, 10)\n",
    "ax.clabel(contour, inline=1, fontsize=10)\n",
    "line, = ax.plot([], [], lw=2)\n",
    "\n",
    "def init():\n",
    "    line.set_data([], [])\n",
    "    return (line,)\n",
    "\n",
    "guesses = [s.run(y_guess)]\n",
    "\n",
    "def animate(i):\n",
    "    s.run(optimizer)\n",
    "    guesses.append(s.run(y_guess))\n",
    "    line.set_data(*zip(*guesses))\n",
    "    return (line,)\n",
    "\n",
    "anim = animation.FuncAnimation(fig, animate, init_func=init,\n",
    "                               frames=400, interval=20, blit=True)"
   ]
  },
  {
   "cell_type": "code",
   "execution_count": 29,
   "metadata": {},
   "outputs": [
    {
     "data": {
      "text/html": [
       "<img src=\"data:image/jpeg;base64,/9j/4AAQSkZJRgABAQAAAQABAAD/2wBDAAIBAQEBAQIBAQECAgICAgQDAgICAgUEBAMEBgUGBgYFBgYGBwkIBgcJBwYGCAsICQoKCgoKBggLDAsKDAkKCgr/2wBDAQICAgICAgUDAwUKBwYHCgoKCgoKCgoKCgoKCgoKCgoKCgoKCgoKCgoKCgoKCgoKCgoKCgoKCgoKCgoKCgoKCgr/wAARCAEgAbADASIAAhEBAxEB/8QAHwAAAQUBAQEBAQEAAAAAAAAAAAECAwQFBgcICQoL/8QAtRAAAgEDAwIEAwUFBAQAAAF9AQIDAAQRBRIhMUEGE1FhByJxFDKBkaEII0KxwRVS0fAkM2JyggkKFhcYGRolJicoKSo0NTY3ODk6Q0RFRkdISUpTVFVWV1hZWmNkZWZnaGlqc3R1dnd4eXqDhIWGh4iJipKTlJWWl5iZmqKjpKWmp6ipqrKztLW2t7i5usLDxMXGx8jJytLT1NXW19jZ2uHi4%2BTl5ufo6erx8vP09fb3%2BPn6/8QAHwEAAwEBAQEBAQEBAQAAAAAAAAECAwQFBgcICQoL/8QAtREAAgECBAQDBAcFBAQAAQJ3AAECAxEEBSExBhJBUQdhcRMiMoEIFEKRobHBCSMzUvAVYnLRChYkNOEl8RcYGRomJygpKjU2Nzg5OkNERUZHSElKU1RVVldYWVpjZGVmZ2hpanN0dXZ3eHl6goOEhYaHiImKkpOUlZaXmJmaoqOkpaanqKmqsrO0tba3uLm6wsPExcbHyMnK0tPU1dbX2Nna4uPk5ebn6Onq8vP09fb3%2BPn6/9oADAMBAAIRAxEAPwD9/KKKKACiiigAooooAKKKKACiiigAooooAKKKKACiiigAooooAKKKKACiiigAooooAKKKKACiiigAooooAKKKKACiiigAooooAKKKKACiiigAooooAKKKKACiiigAooooAKKKKACiiigAooooAKKKKACiiigAorj/AAR%2B0J8A/iZ431n4Z/Dj44eD/EHiTw5JJH4h8P6J4ltbu%2B0t0kMTrcQRSNJAVkBQh1GGG088VZtfjb8Gb74p3PwLsvi54Ym8b2dgL288HRa/btqsFqQpE72gfzljIdPnK7fmXnkUAdPRRRQAUUUUAFFFFABRRRQAUUUUAFFFFABRRRQAUUUUAFFFFABRRRQAUUUUAFFFFABRRRQAUUUUAFFFFABRRRQAUUUUAFFFFABRRRQAUUUUAFFFFABRRRQAUUUUAFFFFABRRRQAUUUUAfIz%2BIrvxH/wUT0j40aVp3xZ1nw/4Z8I6/pWr2XiP4WX%2Bn6b4Ukmn0yMNpUo06CbVWu5bUtJiS%2BRUQyxvbxjbLy/g74f/EGL9qTw98N5fhR4oh17Qf2nfEnj3WvGcvhq6TSpvDt5oWp29tImpmP7NPIVvbDT/sqyGZPszMYxHCr19w0UAeIftr%2BO/wBp34WeFtF8bfAPx94D022ufF/hzw/qFj4v8B3uqyO%2Bq67Y6X9ojlttVsxGIkvDJ5ZR95jA3oDkWf8AhB/%2BChf/AEdB8Gf/AAw%2Brf8AzUUft4f8kQ0P/ss3w4/9TXRK9moA8Z/4Qf8A4KF/9HQfBn/ww%2Brf/NRVbWdA/bz8OaRdeIPEP7W3wQsLCyt3nvb29%2BB2qRQ28SAs0ju3ikKigAkkkAAZrtvhz8ddL%2BIPxC8S/DO58F65oGp%2BHTHIkWuxQx/2nZvJNEt5biOVy0JlglTLBW4UlQHUnwnxj4Y%2BMnh7SfE/w8%2BNujX%2BsaZ8RPFEvhqz8ZS%2BM3nuFS8eQ2EkOlRwrDawQsyQuY2EpCNOwKqSOulhHOfLN2emnVp9tbOyu/6dsZ1Uo3Svv/X3lHxB8b/27NYt/Cy/AD9pj4A%2BOLnxXqV3bWWPhRqtnboLWBp58y/8JHKfNCqAsRUFtwJKoC47H4Paz%2B3j8Zfh1p3xD0P9pT4RWkd4JYrqwvPgJqyz2V1DK8FxbSj/AISjiSKaOSNscbkOOKzfC3wc%2BK/xk%2BI914s8Z%2BCNU8Aatplhpl2de32sscviW1M0TXVtHHI3m272k8sT7wm%2BO5ZPvLlPb/gn8K5vhL4RuNG1LxGNX1PUtYvNV1nU0sVtUuLu5lMkjJCpYRoMgBdzHC5LMSSdcTTwtKlyxfvffvfqtNrbWflrpNKVWUrvb%2BvmeEeBx/wWR8RfFHWNF8XeKPgJ4e8H2FxPDpniCf4dapc32qbWxHMlnF4gKRRuAW/eThxkZTOcegf8IP8A8FC/%2BjoPgz/4YfVv/mor2aiuKclN3UUvS/6tm0U0tXc8Z/4Qf/goX/0dB8Gf/DD6t/8ANRR/wg//AAUL/wCjoPgz/wCGH1b/AOaivZqw/iF8T/ht8JPDsni/4qfEDRPDWlQ/63Ute1SGzgXjODJKyrn8amMZSdoq7K3PNf8AhB/%2BChf/AEdB8Gf/AAw%2Brf8AzUUf8IP/AMFC/wDo6D4M/wDhh9W/%2BaiuQn/4Kh/BjxncPpn7Lfwu%2BInxlulcx/afAPhOX%2BzEkzgB9SvDBaBf9pZH78HFNHiv/gqv8XOfD3wo%2BFXwe0%2BX5Wl8V65ceJtVjH98QWQgtVb2M7jPr1rs/s/ER/i2h/iaT%2B7WX/kpfJLrodj/AMIP/wAFC/8Ao6D4M/8Ahh9W/wDmorK8XH9tXwBpZ1vx5%2B2j8BNEsl%2B9eav8F9Stoh/wOTxUB%2BtYn/DB3xr%2BIH779or/AIKJfFfXc8PpvgZ7TwnYsvdStjGbgj63BODyTWt4R/4JZ/sB%2BE9UGv3H7NOh%2BItT6vqnjiWfX7h267i%2BoyTHOeeMY7Yo9lgYfHVcv8Mf1k1%2BQWgup4x4q/4KMP4T1I6Kf%2BCo37O2tXwyBZeD/gRrmuzE%2BgTTvEs5J7YxWb/w3d%2B3rr//ACSnwjrXi1H/AOPe8tP2O9a022l9CJdT8W2w2%2B/P0r7m8K%2BCvBvgTTRovgjwlpmjWa/dtNKsI7eIf8BjUD9K06Pa4CPw0pP1lb8Ix/ULw7HwPH8av%2BDgjxA4bwj%2BzN8I7OBz8k3jHRfsJx6lLTxNeMv0IzXffCy1/wCC7ev%2BI7T/AIW94p/ZT8N6I%2B77ZLo/hPxHqd9F8jbdsTalBE3z7QcyjAJPJAB%2BuqKieIpSjaNKK/8AAm/xl%2BgnJdjxn/hB/wDgoX/0dB8Gf/DD6t/81FH/AAg//BQv/o6D4M/%2BGH1b/wCaivZqK5STxn/hB/8AgoX/ANHQfBn/AMMPq3/zUUf8IP8A8FC/%2BjoPgz/4YfVv/mor2aigDxn/AIQf/goX/wBHQfBn/wAMPq3/AM1FH/CD/wDBQv8A6Og%2BDP8A4YfVv/mor2aigDxn/hB/%2BChf/R0HwZ/8MPq3/wA1FH/CD/8ABQvt%2B1B8Gf8Aww%2Brf/NRXs1FAHxJ4k1P/g4i8P7pdK0j9kfX0H3E0%2Bw8RW8jD3E96qg/8CNYI/aJ/wCC63hg%2Bd8Sv2XvBot1/wBZP4J8CQ6wf%2BAxyeMLaRv%2B%2BRX3zRXZHE0bWlRi/wDwJflJ/kVzLsfK/wCz98Sv%2BChPx%2B0zUr9/GnhvwRNpk8cU1j8Qf2YtX06WYspO6EjxY6TKMYLIxAJA71pfEvxF/wAFBvh74t8EeC7f9oL4M6he%2BNvEj6Xbr/wpTVYRaxRWNzeTXJ/4qZt4VLbbs%2BXLSKNwr6Wrzbx/%2BzPoHjv4y6D8dU%2BI/jDSdb8O288NhbafrKyaeVmiaKQtZ3EcsIYqeXRVf5R83XMU5Yd13Jq0bOy1lrZ27PfW/QFy3PBf2g/jh/wUO%2BCWpXmmaH8V/hH4kfQPDMniXxhJD8GdStk0nR42kDT5fxOTNKfJmKQqAWELfMOM60Hxz/aoufinb/CGL9rP4VnUrm7SyS7/AOGbde%2BwrfvaC8Wxa6/4SXyluTbETeUWB2%2B4xXb/ABj/AGSvHXxJ8U31xpHxXtLTR/Fvh6w0bx8l1ope9u7e1mkk3WsiSpHCZlkeGRWjZQrFkw2c8PqP7PH7SK6v4g8LaD4b06z0/TfFeu%2BL9B8S/wBqKf7Sv5bcppVsIBmSLySyrK78MLddmRIQnXTo4GpSScrO3e333XR9F038qSg0dT4Q179rv4gavqvh/wACftzfs%2Ba1qGhXAg1ux0r4O6hcTafISQEnRPFZaIkq2AwGcH0rf/4Qf/goX/0dB8Gf/DD6t/8ANRXF/sZeCtWfxvoXiLRPBHiDw54Z8GfCDTvCaQeJdBm0271HUzMJrl3imVXkEIiTE2NjyXc5RnBLH0f4l/ttfsqfBj4q2/wW%2BMHxs0fwr4gu7OO5s4vEbPZW1wjlgoS7mVbdnypygk3jIyBuGeethJKu6dFOVlfRXfntfyfW1yXHWyMz/hB/%2BChf/R0HwZ/8MPq3/wA1FH/CD/8ABQv/AKOg%2BDP/AIYfVv8A5qK9f0vVdM1zTodX0XUoLy0uYxJb3VrMskcqHoyspIYH1FT1x7EnjP8Awg//AAUL/wCjoPgz/wCGH1b/AOaivP8AwGP%2BCyGo/FLVfB/xL8UfATSfDkFvLNo3i/R/h1ql9HeYlVUhltpPEEMsEpRi5wHjGxhvPy5%2BpqKuM1FNOKd/XTzWv53Jaba1Pmf48eIv%2BCh/wV%2BHFx41sPjv8F9d1F7q3sdG0I/BrV7RtRvriVYbeBZB4jl2lpHUE7DhdzHhTV/4ieI/2wPhBo9pr3xY/ba%2BAnh2zvb2Ozgu9W%2BCmqQwtcPnam9/FIAzg8nA47V6B8VvgFqvxB%2BJ3hf4raX8TdStJfCt2bq28M30Edzo93N9nuIVmki2rKkyi5YrIkgA2qSjEDHC/tNQ/EnxB4m8NL4X%2BFfixvF2g3kEnhzWNKeCbQLk3Pl29/HeCQsUiSCSfJliRyozCxc7R10aVCqoQv3bezXZa6WVt9d3poZTnUhzO3a39I2bTwl/wUAv7WK/sP2qvgrPBPGskM0PwK1VkkQjIZSPFOCCDkEVJ/wg/wDwUL/6Og%2BDP/hh9W/%2BaivNdS%2BMuueHtf0z4uRfEy50Hw1a%2BK9StLHwjZ20MenQeGNKW4TULuaLZv377d3VwRtCRqnDkN7F8G/j74n%2BIXjWbwN47%2BFzeFr2Xw3a6/pVrLq4uZ3sppHj23MYjX7NOrpgx5cfNw5KsqzVwVWnHmWq/L/O11e2g4V4SdjjNS8Y/tm/CX40/Crw18Ufi38MPEvh/wAeeNbvQdTtNA%2BF2o6ReW4j8P6vqcc0VxNrl2gPm6dGjK0JysjYKkA19A14z%2B1B/wAlv/Zx/wCyzX3/AKhXiivZq4zYKKKKACiiigAooooAKKKKACiiigDxn9vD/kiGh/8AZZvhx/6muiV0/gH9pT4cfFD4t%2BIvhB4Dg1jUbnwoGj17Wo9HlXS7a8V1VrEXTAJJcru3MibtoByQRiuY/bw/5Ihof/ZZvhx/6muiV7KiJGCI0CgkkgDHJ5Jq4umovmV301tb/P00Jak2rM8u%2BLvwe%2BKHi/41eDviZ8MfGOkeHP7Ds72013Ubqwe8ub%2BynMTGzSHckajfEsgmdm2OgxGwZs9XafB34fJ4nsPHus%2BHrbV/EemWrW9l4i1W2jlvIUZmLBH2gR53EHYFyMA8AV09FW69VxUb2sraaaeb3e//AABKnFNvuFVtY1nSPD2lXOva/qttY2NnA015e3k6xRQRqMs7uxAVQASSTgAVT8bjxq3hHUV%2BHEulprptWGlPrUUj2izY%2BUyrGyuyDuFZSemR1rxI634q/ae/ZI8b/C/4i32k6V430d7vw94oxGYLAalAUeGULIzMltcxtbTKCzER3O3cWXNOlR9ouZvS6T7q/W3b9TRK50PxC/a50a2t/C6/s/aJp3xJufFUeoXGm/2P4khjtpYLKBZpglwFkR52EkYjh%2BXduLFkVGYeLeI/2k/G2seIvHnx48DfE3XI38H2eka/o3gW/mt4dP1fwsSseoRLGU3C/W5ttShLl2MU0duufLlUHV8I/Br4i/Gf40%2BIfGll4M1/4Z3UA0vV5dQ1PTY2iTxVbyPb3Eluqybby2ubGOGOZl2hl2bX3l9nr/gL9kj4Z6b4G0zw78X/AA5oHjjU7DXb3WhqeqeG4hFDfXVzJcubaGQym3iV5SI497lAifMSoNelfA4RWau9L7N66vvHbTRp63NPcid/418PXXjjwNqfhfTfFeqaDNqumy28GtaQUjvLBpEKrPF5qMqyoSGG9CARyp6V4z8Pf%2BCZ37IngzxFH498YeA7r4ieK05bxb8UtVl8QX5bsym7LRwkdvJjjA7CvfaK82nicRRg405OKe9tPxWvyvbyM1KSWgy3t4LSBLW1gSOKNAsccahVVQMAADoBT6KKwEFFFc/8SPiv8Lfg34bk8ZfF34k6B4V0iLPm6p4j1iCxt04zzJMyqPzpqMpOyV2NJydktToKK%2BVbz/gsN%2Byj4lvJdI/Zo8N/Eb4330LlJYvhD4AvNTtUYcfNfyrDYgZ4z5%2BB37UwftEf8FW/iv8Au/hN/wAE/PB3w9tZPmg1f4x/FJJZdnYtY6NDclWxztadT2OOtdX1HEr40o/4mo/g3f8AA6fqWIXxpR/xNL8G7/gfVtFfKY/Z0/4KwfEX/S/iR/wUZ8HeBkk4l0v4VfByGTYO4W61i5ujn38ketL/AMOsh4k/efF//goR%2B0x4saTm5th8UTo1rJ6jydIgtcL/ALJJ%2BtH1fDx%2BKsvkpP8ASKD2FCPxVV8lJ/okfVTukal3YKoGSScACuR8S/tBfAXwYzJ4w%2BN3hDSSn3xqXiW1gK/XfIMV4Kn/AARR/wCCal2wm8Xfs%2BXXimbOZJ/GfjjWtZaRvUi8vJF/IAV13hr/AIJX/wDBNPwkqjRP2BvhAGT7st18PdPuJB/wOWJm/WjlwC%2B1J/8AbsV%2BcmHLgl9qT%2BSX5yZtar/wUO/YB0Jimt/ty/B6zK/eF18TNKjI/wC%2BrgVjzf8ABUv/AIJoQNtf/goJ8Fyf9j4m6W38p67DSv2Nf2QdCULon7Knw2swv3Ra%2BBtPjx/3zCK2If2d/wBn%2B3XZB8DPByD0TwzaD%2BUdF8v7T/8AJP8AIP8AYe0//Jf8jzq2/wCCon/BNS7YJD/wUE%2BCuT0D/FDSl/8AQrgVvaN%2B3p%2Bwz4iYJ4f/AGz/AIT3xb7os/iLpkuf%2B%2BZzXSXX7N/7O96uy9%2BAnguYHqJfC1ow/WOsHWP2HP2KfEKlNf8A2PvhbfBvvC8%2BH%2Bmy5/76hNH/AAn/AN//AMkD/Yf7/wD5Kdn4X%2BK3wu8blV8F/EnQNXLfdGl6xBcZ%2Bnlsa36%2BdPFH/BIn/gl74vDDVv2B/hVFu6nS/BtrYn8DbIhFYB/4Iv8A7BGknz/hr4P8beBrkf6u68DfFnxDphj/AN1Ir7yx/wB8UcmAe05L1in%2BUg5cE9pyXrFP8pH1VRXyp/w7X%2BLPg7/Svgj/AMFR/wBojQrhf9VD4n1/TvE9qvplNTspZG/GWk/4Vb/wWO%2BGf/Im/tY/Bf4oQdfI%2BIPw3vNBuSPT7Rpd1LGD/tfZ8f7NP6tRl8FaPzUo/mmvxD6vRl8NVfNSj%2Baa/E%2BrKK%2BUT%2B2h%2B338Kv8Ak4f/AIJda/qljD8s%2Bu/BXx3p/iFXP95bK7%2BxXQHsFc8dzgVreB/%2BCvP7BfiXxDD4G8efF24%2BGfiWY7T4Z%2BL2gXnhe7V%2BmwHUY4opGyQP3bvycUngcVa8Y8y/utS/Jt/gDweJteMeZf3Wpfk2/wAD6YoqtpGsaR4g0yDW9B1W2vrK5jEltd2c6yxSoejK6khh7g1Zrk2OXYKzfFng3wh4%2B0Kfwt468K6brWmXK4udO1axjuYJR6NHICrfiK0qKabi7oD5r1P/AIJe/A3wrqVx4o/ZU8aeMPglrM8hmkk%2BHGuNDps8nUedpdwJbKRAf4REv1FV28af8FL/ANnH/kffh14Z%2BPfhuD7%2BseCGXQPEiRjlnfT7l2tLlsdFhmiJ7L2P05RXasfWnpWSqL%2B9q/8AwJWl%2BLL5299Txv4E/t6/s0fH/wARv8PNA8ZT6B40gH%2Bm/D/xrp8mka5btjJH2S5CtKB3eLzE/wBqvZK4T48fsxfAD9p3w4nhb48/CjSPEltCd1nLfW%2BLmyf/AJ6W9whWW3f/AG43VvevFn%2BCH7cf7JP%2Bn/syfFR/i/4Og5b4a/FHVNmr28Y/g0/W9uWPQLHeK6gDHmjrR7LCYj%2BFLkl2lt8p/wDySXqFoy20PqSivHP2eP24fgz%2B0D4hufhkU1Twd8QdNi36x8N/Gtl9g1i1UdZEjYlbqHjImgaSMgg5GcV7HXLVo1aE%2BSorP%2BvvXmm15ktNOzPOPHX7K3wb8WeG/GGmaH4K0nQNT8a2jRazrul6TCtxNIWDrLJ8uJT5gV2DcOR82au/CL4O6j4C1zXPH3jbxmfEfirxILWPVdXWw%2ByQrb2yOsFtBAHfyokaWeTBdiXnkJY547qiqeIrOm4OV0/%2BB13totPJGfs4KV7HjH7TrF/jb%2BzkShX/AIvPfjB9vBXijmvZ68Z/ag/5Lf8As4/9lmvv/UK8UV7NWJYUUUUAFFFFABRRRQAUUUUAeD%2BFPjN%2B0Fof7Z9v%2Bzp8QvEHgjxJpes%2BEdV8RLF4V8OXlje%2BFbaC9toLFb6Wa9uI7oXQmuFR1jtSXsZiiSKshiwvhX%2B1P8Xdd/bS8V/A34seJtE8M6Lb%2BJ7nTfAGgX/wn1u0ufE9tFpdvdm4tdenuxp93IrtdlreCBpBHauSAEZx0Xwm/YlvPg58QvG/xG8OftZfE27uvH2uT6rrcGrW3h2cLO7IIljm/sgXHlW8KLbwxPK6RxcBS3z1v337LUHiL45aL8a/Hvxv8a%2BIofC2tXOr%2BEfB2pHTI9J0W%2Bms7iyaeL7NZRXUxW2u7qNBc3EyqJ2IG5UZQDjP%2BChfxc%2BFHhrwf4M%2BFHiP4neHtP8AFPiD4w/D2XQfDV7rUEWoakkfjPRmka3t2cSTBVVixRSAFJOMGvoevGf28P8AkiGh/wDZZvhx/wCprolezUAFcT8ff2h/hD%2BzH8PZviZ8Z/F8OlaakqwWsexpbm/uX4jtraFAXuJnPCxoCx5PQEjH/an/AGpPBn7LXge11zV9Ivde8Ra7fLpvgvwXowD6h4h1Fx8ltAvYD7zyt8kaAs3YHhP2dv2RfGep/EGD9rX9tPVbLxL8UXiYaDpFsS%2Bj%2BBbZ%2BtppyNw05GBLeN%2B8kIwpVOG7KOHgqftq7tDolvJ9l2S6yei2V3oqUVa72PRP2afih8YvjD4JuvHvxb%2BBs3w%2BjvdRZvDWhanqaz6kdO2J5ct9Gi7LWdm3kwB3KKVViGBFJo37LXwo0z40678ftSt9Q1bxJrwgSWTVdQaS1tYoVVYo4bVdsClduRKyNNyQZCOK9GorF1pKcnT91S0sr7dtdenz/AV9dAooorEQUUV4H%2B1B/wAFAfh78BfGlt8Bfhr4M1b4o/F/VbYTaR8L/BpRrtIjgC6v53Pk6ZaZK5nnIyD8iuQRWlKlUrT5YK7/AK1fRLzdkaU6VStLlgrv%2Bt%2By82e9SyxQRNNNIqIilndjgKB1JPYV8w%2BP/wDgqp8FLjxfe/CX9kbwN4l%2BP3jayk8m70n4YWyT6bpsx6LfavKyWNoM5BBlZ1I5SsC0/YK%2BP/7YEi%2BKf%2BCnXxm%2B3aJMwktvgR8Nr%2Bew8M2y9Vj1G6UpdazIMKWDtHb7gcRFTX1L8Pfhx8PvhL4Qsvh/8LfA%2BkeHNC06Ly7DR9D06O0tbdfRIolVV/AV08uEofE%2BeXZaR%2B/d/JJeZvy4Wh8T532Wkfv3fySXmfMq/CH/AIKp/tN/6R8Z/wBofwz8AvDVx97wp8IrJdZ19om6xzazqEfkQyD%2B9bWp9nrovht/wSX/AGGvAviSP4g%2BMfhTN8S/Fy8yeMvi7q8/ifUXfOd6tftJHCfTyUjA7CvpKipljcRblg%2BRdo6fe1q/nITxle1oPlXaOn4rV/NkVlZWWm2cWn6daRW9vCgSGCCMIkagYCqo4AA7CpaKK5DlCiiigAooooAKKKKACiiigAooooAKKKKACsjxx8PvAXxO8OzeEPiV4I0jxDpNwMXGl65psV3by/70cqsrfiK16Kabi7oabTuj5W1n/gkN%2BzT4Z1OfxV%2ByV4t8cfAPXJpDK9x8JPE0llp88nUedpUwlsJUz1XyFyO44Ipv4k/4K0/stjd4r8JeDf2lvC0H%2Bs1DwwE8K%2BLI4%2BpdrSZ30%2B8YD%2BGOW3Zj0XkCvrWiutY2tLSraa/vav8A8C0l%2BLOlYyrLSraa/vav79Jfizwn9nX/AIKOfst/tH%2BLX%2BFWk%2BKdQ8I/EG3TN98MviJpUmieILfgk4tLjBuFwM%2BZA0seP4q92rzr9o79kr9nD9rfwmngv9or4QaP4otIH8ywnvYCl3p8uQRLa3MZWa1kBA%2BeJ0b3rwGb4c/8FBP2BR/afwV8Wap%2B0Z8LLUZuPAfjDUI08aaNAOT/AGfqb7Y9VVRki3u9sxCqqzMTT9lhq/8ACfLLtJ6fKWn3SS9R%2Bzw9f%2BG%2BV9pPT5S/%2BSS9T7DorzL9lz9r/wCA/wC2F4MuPF/wU8WvcTaZc/ZPEfh7VLR7PVtBvBndaX1nKBLbSqQwwww20lSy816bXLOnOlNxmrNdGc04TpycZKzQUUUVBJ5z%2B0Z%2Byj8Dv2p/D1tonxd8ICe702Xz9B8Q6dcNaarotwMFZ7O7iIlgcEA/Kdp2gMGHFeKj42/tJfsAzppH7W9/efEf4So4js/jJp2n/wDE18Px5wq65aQjEsQHH26BccZljUtur6wplxb293bva3UCSxSoUkjkUMrqRggg8EEdq66OLcIeyqrmh2fTzi94v8H1T3KUrKz2KvhvxL4d8Y6BZeK/CWu2eqaXqNslxp%2Bo6fcrNBcwuMrJG6Eq6kEEEEg1dr5I8Y/CT4if8E5NevfjV%2Byv4bvtf%2BEF3cveePvg5YL5kuhhjum1TQkP3ccvLYjCONxj2tgD6a%2BGPxN8A/GbwBpPxT%2BF3im01vw/rlkl1pWqWUm6OeJu47gg5BUgMrAqQCCKWIw6pxVSm%2BaD2fVPtJdH%2BDWqdtiUbarY82/ag/5Lf%2Bzj/wBlmvv/AFCvFFezV4z%2B1B/yW/8AZx/7LNff%2BoV4or2auUkKKKKACiiigAooooAKKKKACiiigDxn9vD/AJIhof8A2Wb4cf8Aqa6JXoXxh%2BLfgP4D/C7XvjH8T9cTTtA8OabLfapduMlY0GdqjqzscKqjlmZVHJFee/t4f8kQ0P8A7LN8OP8A1NdErg/2h7YftXfts%2BDv2S5P3/gz4c2Nv4%2B%2BJUA5ivrzzmj0XTpexXzYp7x42BDC2iz1rpwtGNar7%2BkUm5ei3t5vRLzfkVFXepe/Y4%2BC3jz4i%2BNLj9vT9qPQXtvHXiayMPgrwrd/Mvgbw%2B53RWaKeBeTLtkuZcBizCIbVQg/SlFFTiK8sRU5notklsktkvJfjq3q2KTcmFFFFYCCiivnH/goV%2B0B8UPCGmeE/wBlX9mPUYrb4t/GPUZtL8MalJF5ieG9OhQPqWuyp0ZbWFhsUn555YVw2SK1o0pV6ihHr9yW7b8ktTSlSlWqKC/4ZdW/JLU539oD9qD42/tFfGTVf2I/%2BCf2r21hq2iMsPxY%2BMdzai5sPA6uM/YrWM/JeauyHIiJ8uAENLydo9e/ZT/Y7%2BCH7HXgq48KfCXRLmW/1a5%2B2eKfFuuXRvNZ8R3xyXu7%2B7f57iViWPOFXcQiqvFaX7L/AOzR8Lf2Rvgro/wM%2BEemSxaZpaM9ze3kvm3eqXkh33F9dSnma4mkLO7nqTgYAAHoFbVq8eX2VHSH4yfd/otl5u7Nq1ePL7KlpD8Zeb/RbLzd2FFFFchyhRRRQAUUUUAFFFFABRRXN/GHxzrXwz%2BFuv8AxB8O%2BCbnxHfaNpc13baHaXKQyXrIpPlh3yF6cnBOAcKxwDdOEqtRQju2kum%2BnXQipUjSpuctkm310Wuy16dDpKK%2BAPgb/wAF7fhZ4o8bx%2BCv2gvhNP4Kimm2Lrun6wNTtYCclfPVIkdABtUsgkwxOVQA4%2Byvg7%2B0Z8Cf2grS6vfgr8VtE8SLY7PtqaXeq8lvuztMkf3kBwcEgZwcdDXp5jkWb5U/9qouK77x/wDAldfe0eVlvEGTZuv9lrRk%2B20v/AXZ/cmdrRRRXknsBRRRQAUUUUAFFFFABRRRQAUUUUAfPH7WH7BenfF/xlB%2B0r%2Bzv42f4ZfHDRbby9H8faXbhotVhXBGnavbDC6hZNtA2v8AvIsBo2UjBt/saftoX/x31XXPgJ8efAyeA/jV4HijPjPwS1yZILm3Y7YtW0yVsG60%2BYj5XHzRMfLkAYAt75Xzz%2B31%2Byj4t%2BMugaP8ff2c7230b43fDCSTUvh1rcnyx34I/wBI0W8OR5lleIDE4JGxykikFDntpVY14qjWf%2BGX8vk/7vdfZ3XVPspVY1oqlVfpL%2BXyf93y6brqn9DUV5t%2ByJ%2B0x4R/a%2B/Z48N/H7wfp9xp6a1asup6LejFzpGoQu0N3YzggESwTxyRNkDOzI4Ir0muScJ05uElZrRnLOEqc3GSs1oFFFFSSFfI/iuw/wCHa3x9X4m%2BHl%2Bz/Aj4na/HB4y0teLfwT4huXCRapEOkVldSFY514WOVkkBAZlr64rB%2BKHw08GfGT4c658KPiLoseo6F4i0ubT9VspRxLBKhRgD/C2DkMOQQCOQK6sLXVGbjNXhLSS8u681un302bKi7PXY83/ag/5Ld%2Bzj/wBlmvv/AFCvFFezV8vz/DTx98G7X9kv4U/Ez4jDxbq/h74qXthJ4iNoYXvYYvBnipYGkUsxMohEau%2BfndWbA3YH1BWFSMYTcYu6T37%2BfzE9GFFFFQIKKKKACiiigAooooA5DwL%2B0H8A/ih4y1n4dfDT43%2BEPEXiHw67J4g0LQvEtrd3mmMrmNluIIpGeEhwVIcDDAjrVi1%2BNvwZvvinc/Auy%2BLnhibxvZ2AvbzwdFr9u2qwWpCkTvaB/OWMh0%2Bcrt%2BZeeRXzX8NfivpnxY/bf1b4p%2BLPhJ8RfCWk/CzSda8L%2BBdNuPg14hh/tr7VeWZ1HVmuhYfZ3gkltIEtYIpGZ41muXB3xiHmfB3w/8AiDF%2B1J4e%2BG8vwo8UQ69oP7TviTx7rXjOXw1dJpU3h280LU7e2kTUzH9mnkK3thp/2VZDMn2ZmMYjhV6APe/28P8AkiGh/wDZZvhx/wCprolch/wTui/4TbxD8c/2ir8ebd%2BMvjTqthaXX97TNHCaVaoP9kG2nce8pq9/wUL034rz%2BD/Bmo%2BHPGnh618LQ/GH4ejXtGvfDE9xqF458Z6N5bW94t7HHbBW2lg9tMWAIBTIIr/8EsZo4v2X9R8OvbJDeaL8UvGVhqUSFjtuE8QXzNncSdxDqx578ADArto6YGs11cF8ryf5pFr4H8j6PoooriICiiigAr5L/ZFs2%2BOv/BRL9of9qbWWFxbeCL7T/hT4I3jmzhtLaHUdWK/9db29iUt1ItFGeMD60r5U/wCCW7LYah%2B0l4Uu/lv9O/al8VS3cbcNsuks7yByPQwzx4P%2Bz7V2Yf3cNWkt7RXyctfySOqh7uHqyW9kvk5a/kkfVdFFFcZyhRRRQAUUUUAFFFFABRRRQAV4P/wUS%2BBL/tCfs9XHgXVP2mrb4XaB9sjm8SavqFnDJbXdsvKwStJND5S%2BYI23CQA7dpBB494r8g/%2BC4Hiz9lLxz8ZJb34eeMNSu/iVol3DpXim0Mkr2C28cTnbGSpUSo7KrhWVQd2VL7jX0nCeX1swzqnGnJxcfe5lBT5Wtm09EvN3s7advmOMMxo5bkVSVWKmpe7yubhzJ7pNat90rNq%2Bvf5hv7X9m/wL8EfEvhLU4b/AMQ/E%2BfxEtpYalbMv9k6PZ20rebNBPDclL03A2qGaMoqqxXHyu/S%2BEtG%2BK/wP8A%2BF/jv%2Bz342tdD13UJTpVxdeHfiTaz399LKQfIfT1CypjdHuX50H7skBsMeN%2BAPwv8PfGDWIvh1oUGoap47166On%2BGNDlto4dNLOn/AB8zXf2hZA6DeViEWwsEZ5CoaJ/Zv2tv%2BCL37ZPwI%2BCeieP/AALaf8JvrU2ozR%2BJNB8E2E15NYQkJ9neIFBJcZPmCTbGNh2Y3Luav1biviTLOFsuqV8W51GnzOmoqcqidotRi2koLfto7KT1Pzjwz4CzfxK4pwuUYKpRwvtfcVerUdKlSkuaadSok3zytyrZtuKbhFn6zfsaeKPjDffAfw7pn7THjTw9qPj02rHU00e8hdtuSUEoiOxpgmN5jGzdnGRyfW6/Mn9gD/gmv8J/Bv7DF/8AFj/go58NX8Oa7b6pdarb6zPqF1Yajo%2BlrFCIhKsDqVl81ZmCMrPiRFIzhQfsZf8ABSbSP2VdL8S/Af4ieFPid8R7lvEt5q3hfWNKv4NcebQ9qKjl/PwqokLyN5eU3M%2BdnNfkuEy%2BPEuCnmOXQmm7SdOVNQtzN6K03Fcqs3G90mn6frfETlwFxDPIczr0aqpOVNV6VWVWE3BJcybpqUlJ3Skk05Rkuib/AE2orK8DeLtP8f8AgvSfHWk2V7bWus6bBe29vqNq0FxEksYdVkjblHAbBU9DmtWvBlGUJOMt1oejGUZxUou6ev3hRRRUlBRRRQAUUUUAFFFFABRRRQB8m/swWq/AD/gpl8df2a9PHlaB8QNC0r4reHrKP/V215cSS6brGPeS4tbWcj%2B9cMf4q%2Bsq%2BVJ2XVP%2BC3tp9hO7%2BxP2V7ldTK/wm98SW5tw3uRY3JA%2BtfVddmM1nCT3cIt%2BtmvySOrF6yhJ7uMW/ua/JIKKKK4zlCiiigDxn9qD/kt/7OP/AGWa%2B/8AUK8UV7NXjP7UH/Jb/wBnH/ss19/6hXiivZqACiiigAooooAKKKKACiiigAooooA8Z/bw/wCSIaH/ANlm%2BHH/AKmuiVxn7J0w%2BDf7Z/x2/Zk1H91Dr%2BsW3xL8Jh%2Btza6jEltqG32jv7ViR/09Kf4q7P8Abw/5Ihof/ZZvhx/6muiVy/7fvgTxp4SPhT9t74N6DPqXiv4Q3M9xqui2a/vdf8NXCqup2Cj%2BOUIiXMIOcS24ABL124JqcpUJO3OrL/EneP46f9vFw107n0dRWJ8NviN4L%2BL3gDR/ij8OfEEGq6Fr%2BnRX2lahbNlJ4JFDK3qDg4IPIIIIBBFbdccoyjJxas0RsFFFFIAr5Fvr8fsf/wDBVOXV9ab7P4I/af0W0tIb6TiKz8a6RA0ccDHhUN7poUJnl5NP2jJYV9dV5t%2B1n%2BzD4C/a/wDgZq/wQ8fXN1ZJeGK60bXdNk8u90PUoHEtpqFrIOY54ZVV1IPOCpyrMD04arCnNxn8MlZ/5/JpP711OjD1IQm4z%2BGSs/8AP5NJ/f3PSaK%2Baf2Jv2ufHev%2BKb79i/8AbFgtdG%2BOXg2yEl00SeVZeNtLU7I9e0zOA8cmB50K/Nby7kZVG2vpas61GdCpyy/4DXRrun/Wt0s6tKdGfLL/AIDXRryf9dUFFFFZGYUUUUAFeKf8FFPinbfCD9i/4geKx4ul0W/k8PzWmi3lrf8A2e4%2B2TDy4hCwIbfubPy/NhSRjGa9rr5H/ay/4JyeM/id%2B0Xaftb/AAZ8daHdeJLGKIr4R%2BJGny6hosksaKiSRhW3WxwoOFRhv%2BcFTnPq5LHBPMYSxVTkjF82q0bTTUW9VFO1nJppdUeRnkscstnHCU%2BeUk46OzipJpyS0cnG91FNN9GUfh18Bv8AgqvovhHQfAOm/tiaCdE1DSbO61Dxb4h8Ni91/RpvJUy2caSZiulLk/vJm34B5Ugbupb9iL9rLxH/AKL8RP8Agpr47ubVv9Ynhrw3Y6PKf92WLcV/Ktn4A/tt%2BIvEnxdt/wBl79p34PXXw/8AiTcafJdabbrdJdaZrsUYYvJZzqST8qO/ltkqqt8xIIr6Erux%2BZZphK9p06cG/eTjTptSTbtJS5ZJrpdWWmydzgy/LMpxmHvCpUml7rUqlVOLSV4uPNFp9bSu9fiasfMS/sLftN6SP7O8L/8ABS/4kRacv%2Brj1bS7O%2BuQPe4cBmPvivNfhr/wRj8R/Cb4k6x8SfA37c/jbTb3WYHW7vLPS4lvZ5JH3yvLO0jCTc%2BT9xW5PzHJz9z0VhT4jzelCUYTSUlZ2hT19fc1%2BZvU4ZyatOM5wbcXeN6lTT09/T5H4O/Gf/gnz4r/AGeta8Q%2BCfjR4k1HTPENpD9o8If2b4TuL/S/E0WTnyruA7raQcDy3hOCRllBBr6E%2BH37BX/BXvwH4A8L/Gb4R/HzWl1jUrWO5vfCN54smilsVC/uI54rtjbz4jxmNx%2B7J27Tgkfq9RX0GI4/zLEUYwlSg39rmipJ6Wsk17qe71bvs7aHzmG8Osrw1ec41ZxX2eWTjJa3u5J%2B81stErbq%2Bp4p%2BxB4J/ad0n9nJfC37beqWet%2BJrq9uvtEcs0V1mxkC7YJyi%2BW7ZMgIG5dpUZPQbPgP9iX9k/4XfEm3%2BLvw3%2BBGgaF4htI5Utb/SbY24iWRCj7Y0IjGVZlztzgmvUqK%2BRq5jiqlarOD5FUveMLxjr05U7W8tT7OjluEp0aVOa9o6aXLKdpS068zV7%2BasFFFFcJ3hRRRQAUUUUAFFFFABRRRQAVBquqaZoemXOt61qEFpZ2cDz3d3cyhI4YkUszux4VQASSeABU9fFfx%2B8b6x/wU%2B%2BK2p/sPfAfWLmP4PeG9SFv%2B0B8RNOmKRaoyEM3hTT5l/1kknAvJUOIYiYt2%2BQrW%2BHoOtLV2itW%2By/zeyXV/O29Ci60tXaK1b7L/Pol1fzt0P8AwTKh1L47eJ/ip/wUa12xmgt/jJr9va/D2C6iKPH4Q0pJLbTptrDdGbqR7u8K91uIz0xX1nVXQtC0Xwvoln4a8OaVb2GnadaR2thY2kIjit4Y1CJGirwqqoAAHAAAq1SxFX29ZzSstkuyWiX3L77ir1fbVXJKy6Lslol9y/MKKKKxMQooryL9tP8AaTuf2a/g62qeD9HXWfHPiW%2Bj0L4c%2BGlOX1XWrjKwIR2ij5mlYkBYonJI4rSjSnXqqnBav%2Bvu6t9EmxpNuyK37UH/ACW/9nH/ALLNff8AqFeKK9mr5en%2BFHiT4H2v7Jfwv8Z/EHUvFet6X8VL0a34i1a8knmv72TwZ4qlnkDSEssfmu4ROiRhEGAor6hpVIxjNqLuk9%2B/n8wejCiiioEFFFFABRRRQAUUUUAFFeL/ALHPxd%2BOHxKuvil4O%2BP174Uu9Z%2BH/wATG8PW194P0W5sLW4tW0bStSQtFc3Vy5kVtQeMuHCuI1YImSK5L9if9qf4u/Gj4heI/BHx78TaJo%2Bu2tzrEuk/D8/CfW/D%2BoJptrq0lpDfx32o3ckOrwND9lZ5bSFY1e6jyy71UgHX/t4f8kQ0P/ss3w4/9TXRK9mr54/4KF/Fz4UeGvB/gz4UeI/id4e0/wAU%2BIPjD8PZdB8NXutQRahqSR%2BM9GaRre3ZxJMFVWLFFIAUk4wa%2Bh6APkK/kvP%2BCXPxTvNeFtK/7OXjfWWuNQEMZZfhtrNxJ8820fc0q5kbLY%2BW3mcnCo/P1xZXtnqVnDqOnXcVxb3ESyQTwSB0kRhlWVhwQQQQRwQaj1rRdH8SaPdeHvEOlW1/YX1s9ve2V5AssNxE6lXjdGBDKykggjBBxXyc3hf4x/8ABMe7kv8A4ZaBrPj/APZ8aVpLvwnZh7vW/h8pJLSWKkl77TVyS1vkywD5k3qGWvR93MFq7Vfwn8%2Bk/XSXdS%2BK/j9fz/4J9dUVzvwp%2BLfw0%2BOXgLT/AIofCHxtp3iHw/qsPmWOqaZcCSOQdwe6sDwyMAykEMAQRXRVwSjKEnGSs0RsFFFFSB5J%2B1z%2Bxt8Lv2wPCOn6b4uu9R0HxN4bvDqHgbx94buPs%2BseGb/GBcWswHAIAEkTZjlX5XU4BHjngf8Abp%2BLH7JHiWx%2BBP8AwVIsLHSBc3C2fhX4%2BaNamLwt4lJOI0vuo0W%2BYfeilPkOwcxSYwtfX1Z3i3wj4U8feGb7wX468M6frOj6nbNb6lpWq2aXFtdRMMNHJHICrqe4IINdVLEJQ9lVXNHp3X%2BF/mno/J6nTTrpQ9nVXNH8V6P809H5PUu2t1a31rHe2VzHNDNGHhmicMrqRkMCOCCOQRUlfIUn7BX7Qv7IVzJ4g/4JkfG2303w%2BJDLP8C/ibNcX3hlsnLLp10pa70cnLEIhlg3MP3QArT8Jf8ABVf4a%2BDfENp8Nf27/hb4g/Z78V3Uogt38c7JvDuoy/8ATlrsGbOUdOJWhk55QVTwbmuag%2Bddl8S9Y7/NcyKeFc1eg%2BddvtL1jv8ANXR9VUVX0nV9J1/TLfW9C1O3vbK6iWW1u7SdZIpkIyGR1JDKRyCDg1Yrj2OTY5Txt8d/gf8ADS7fT/iN8ZPCugXEaB5INa8Q21q6qRkErK6kAivnz4y/8Fbvgh4Y8QD4c/s1%2BCte%2BNPi6W0a4t9K8BQG4tlCsAwkuI1kYYXc2YopQMAMVzmvGdB%2BDug/sn%2BNfFNx%2B2Z%2BwFcfFK31bxTe6tD8V9B0SLXvNgnlLgXVpL89sEHXqOTgNjc31p%2Byb%2B0F%2Bx18YNCudI/ZU1rw7DHZgSX%2BgaVpQ02e1P3d0lqY42AB%2BXdtK5GAa%2BrqZbl2X0/bulPEQVveUoqndpbuHNNK%2Blpcj9D5GnmeZZlU%2BrqrTw8237rjKVVJN7KfLTbtrePOu1z8%2Bv8Agor%2B3loH7QHiXwV4G8a/s5eM/hU2k6pBdT%2BPvEGjyxa7o5P%2BvjsoFeLKZCks0hLgZESMqmv1D%2BEN/o%2BqfCfwxqXh7xbfa/YXHh6ykstd1PP2nUYTAhS5lyqnzJFw7ZVeWPA6VvXVnaX0XkXtrHMm4NslQMMjkHBqQAAYArhzPNsLjcDQw1Cj7NU%2Bb7Tknzf4lzL77f3b3b78qyfF4DH18VXrqq6nL9hQa5dvhfK/Xl5v71rJFFFFeEe%2BFFFFABRRRQAUUUUAFFFFABRRRQAUUVzfxW%2BMfwl%2BBPg64%2BIXxp%2BJeheE9CtR%2B/1bxDqsVnbqcZ275WUFjjhRyewNOMZSdoq7Goyk7JXZ0lc78Vvi58MPgX4C1H4pfGTx9pPhnw7pUJl1DWdavkt7eFewLOQCxPAUZLEgAEkCvmeb/gol8av2nydD/wCCaH7Ml/4tsZjsX4vfEqG40HwjAP8AnrAJEF7qoBBGLeJUPB83HNbHww/4Jp6Tr3j3Tvj3%2B3f8WL344%2BP9Nm%2B0aNHrlilr4a8Ny9jpmjoTDG68D7RMZZztDb1Ndn1WNHXES5f7q1l920f%2B3n/26dX1aNLWu%2BXyWsvu2X/bz%2BRxt940/ae/4KoKfD/wiTxJ8HP2errjUvHl5bvY%2BKvHlsesWlwOA%2Bl2Mi9byUCeRWXy0QFmr6u%2BDnwa%2BF37Pnwz0f4OfBfwRYeHPDOg2gttK0jTYtkUKAkk9y7sxLM7Es7MzMSxJPTUVlWxDqRUIrlgtl%2BrfV%2Bb9EkjOrXdSKhFcsV0/Vvq/P7kkFFFFc5gFFFeZftMftafCT9ljw/Z3nju8u9Q1zWpjbeFfBmgWxu9Y1%2B67QWlsvzOc43OcImQWZRV06VStNQgrt9BpNuyOh%2BOHxw%2BGH7OXww1X4wfGDxTDpGhaRDvubmXLPIxOEhiQfNLK7EKkagszEADmvFf2WfhB8TvjT8WT%2B3l%2B1P4Ym0fXJrCSy%2BFngC9IZvBujy43yzDoNSugFMzDmNAsIPDCm/B39mT4tfHX4maX%2B1Z%2B3dbWi6tpExufh58KLG6Fxpfg4kfLczuPlvtT2nBnx5cRJEQ6MPpiu2c6eEpulTd5vSUlsl/LF9f70uuy0u5U2oqy3PGf2oP%2BS3/ALOP/ZZr7/1CvFFezV4z%2B1B/yW/9nH/ss19/6hXiivZq88gKKKKACiiigAooooAKKKKAPF/gT%2Bx5rHwJ8aeL/Gtp%2B1l8SvEcnjjxXD4g16x8Q2nh0QPdpa29mQn2TSIHSN7e0tomAfOIQylXZ2bU%2BH/7LUHhP40L8efG3xv8a%2BOtestDvtG8O/8ACVHTI4NEsby4tri6ht49PsrXeZHsrMGS4M0gW3UBxuff6pRQB4z%2B3h/yRDQ/%2ByzfDj/1NdEr2avGf28P%2BSIaH/2Wb4cf%2Bprolanhn9sD4Na18adR/Z58RXt/4W8YWl3JHpukeK7I2R1yFTgXOnyMfLu4m5wEYuMHci4rSFKpVTcFe2rt0Xf%2BvnYmU4xtd2uepUUUVmUfOPxQ/Yc8Q%2BDvHuoftA/sJ%2BP7X4ceNtRm%2B0eIfD11atN4Y8WSdzf2aEGGZun2u32yjLFhJmpfhf8A8FBPDlv4ztPgh%2B1/4Duvg78Qbp/KsLLxBdLJo2vOON2mamAIbjOV/cuY5gWCmMkZr6JrA%2BJnwr%2BG3xn8G3fw8%2BLXgTSvEeh36bbvStZsUuIJPQ7XBAYdQwwQeQQa7o4uFWKhiVzW2kviXz2kvKXyki%2BZPSRv0V8ur%2ByB%2B01%2By7/pn7CPx6F54ch5X4R/Fi5n1DTIkH/LOw1EFrywAAwqOZ48nlQBV7Qv%2BClPgfwPq1v4K/bW%2BFniD4Ha7PKIYbzxYq3Hh68kPa21m3zbMMc4mMLjPKih4GVRXw8vaLstJL1i9f8AwHmQcl/h1PpSiquia5onibSbfX/DesWuoWF3EJLW9sbhZYZkPRkdSVYH1BxVquFpp2ZAVn%2BKfCnhbxz4fu/CXjbw1p%2BsaVfwmK%2B0zVbNLi3uIz1SSOQFXX2IIrQopptO6BNp3R83eCP%2BCXX7PfwT%2BKem/FD9lzxT41%2BFENtq6X2seDPA/ieSLw3rYD5eG40ucS20asMrm3WFxnIYGus/bl8W674e%2BEGl%2BGtB8U3ugt4w8baL4cu9e0%2BUxTadbXd2iTSpIP8AVMYwyB%2BNpkBBBxXstZvi7wd4Q%2BIHhu78G%2BPfCum63pF/H5d9pWr2MdzbXKZB2yRSAq4yAcEHpXR9ZqTrRnVblbvv9/X5327HR9YnOrGdV81vv/4PzufIC%2BFPEnxU/wCCeHxw8D/Dq98YeK9JOq6zb/CxofEFxfajeW0CwtbxwXVzK0lxEt0kiKJJWDKrITt4Hxd%2BxHffEH9m39vLwx8PvhdB4U%2BOPjDXINSjuNa8QHVPDep%2BHfIt7pLm21JHmuUsJYzAm8NbzsUlQRj51avuH9uz4pfsu6T4E1/9lX4e%2BJvGdt4913SYrXTdD%2BB5nbVNMMEZSAGO2dIoIlD7XhYrvjbG0jaR4n/wT9/4J9ftbeFPh7ZW8/gXw78G9X0ay1OG38W3unnV9S8Rf2rGiXl1dw/bQY7yMwxPDK7CKLdIn2Vkf5ftMurV8FkmIqVnywq6KErR5uaKXOtpSStrypJvV3R8vjp5Jm2fUafLepCSk5qLly8qfuTkk4xu7P8AmvdaX0%2BrtG/4KL/Ba58KeE/EGvaB4htZ/EGiWep67b2WlvdxeFYLm4e1jk1GZMLBGbiKeIPg/wCokYhVUke/18deLf2DPiPYa14m%2BB3w80XTW%2BHPxBtvC9prvim815l1DTdL0nYtzpv2YQ4m%2B0qkxEocAPf3BZQAufpT47aL8dNd%2BG93p37OPjvw94c8VmeJ7HU/FOgy6lZKgcGRHginhc7lyoYONpOcHGK%2BOr08NzR9k9%2B72XS%2BmnbrtfqfV16eHvH2b37vb17duu1zsaK%2BVftv/Bbbw5802gfsveLY0%2B99n1HxDocsg9laO9UH6tipLX9o7/gq1pMhtvEn/BMzwXqYSN2N34b%2BP8OJGCkhRHdabERkgAZbHPOAKX1Ob%2BGcH/28v1sL6pJ7Ti/%2B3l%2Btj6mor5V/4bR/4KF2J/4nP/BHjxmyjq%2BlfF7wtcD8A95G36Uv/De/7YEIxd/8Eg/jErdxD4s8LyD8xqdH1HEdOX/wKH/yQfU6/l/4FH/5I%2BqaK%2BVv%2BG8f2zLj5dO/4JAfFxm7C58aeFoR%2BZ1I0n/DYv8AwUevv%2BQV/wAEffEEIP3W1n41%2BGoB%2BPkzTEflR9Rr9eX/AMDh/wDJB9Tr9bf%2BBR/%2BSPqqivlU/Hf/AIK8%2BJ/3Ph//AIJ6/CzwyTws/in48S3QHuUstJb8gxo/sn/gtn4o/cXvjT9mPwbE/wB%2BXTtE8Qa7NGP9kyzWaE/VaPqcl8U4L/t5P8kw%2BqNfFOK/7eT/ACTPqqivlP8A4Yx/4KF%2BM/3PxX/4K0%2BIbW1k/wBfZ/DX4UaLopA9Enu1vZVx67vfFB/4I%2B/s3eLef2hvi58afi2P%2Bff4h/F7VJbXP/XpZyW1vg/3fL2%2B1P2GFj8VW/8AhjJ/nyoPY4aPxVfui3%2BfKj1D45/t8/sT/s0Rzf8AC9/2qfAnhm4g%2B/p2o%2BJLf7aT3C2ysZnPsqGvK/8Ah6jb/FEfZf2Mf2L/AIyfFtpuLLXU8KHw3oMp9TqGtG2BX3jjk9gcjPrvwR/Yd/Y4/Zs8qT4Dfsu%2BA/ClxEPlv9G8L20N03u1wE81z7sxNep0c%2BBp/DBy/wATsvujr/5MPnwcPhg5ersvujr%2BJ8mnwT/wV4/aHOfGvxb%2BG/7Pmgz/ADHTvAunP4q8QhDwY3vr5IbKFsfxR20uOoPp0Pwr/wCCVH7JHgXxjb/Fb4maLrfxc8c23MXjf4x63J4gvYTnIMEc/wDo1pg9Ps8MeOg6CvpGilLG17csLQXaKt973fzkJ4utblhaK/uq33vd/NiKqqoVQAAMADtS0UVyHKFFeceLv2s/gB4U0Hxjq8HxJ0vWbnwJp8134k0bQtQhub22EQG5DGHG1wWVTuKhWdd5XOa868YftT/EXxnrPhn4ReFLCT4ZeLNY8XHR9dPinTINTbTM6bd31sIxBcCGX7SLSREkDsoMcibd5Sumng8RU6WXnp0v67dk%2BncpRbPoyqXiPxJ4d8H6Fd%2BKPFuvWWl6ZYQNNfajqN0kEFvGOrvI5Coo7kkCuQ/Zv%2BLWsfGP4ZDxB4r0a303X9M1jUNF8R6dauWigv7K7ltZTGW58tzEJY8kkxyocnOa8%2B8S/wDBP7wB8YPivefE/wDaj%2BIPiD4m2ceqtdeF/A/iGWOLw9oce7MaiwgVY7uRQdvnXPmkjHAPNEKNKNWUa8uW3ZXb8lsvm3a3fYElfU5jUf20/jB%2B1PeTeDP%2BCdHgGHUtL8xoNQ%2BNfjG0lh8OWWDtc2EXyzavMuGA8vbAGC7pSDiu%2B/Zu/Yp%2BH/wF8QXnxX8TeItT8e/E3WYBHr/xJ8VlZL%2BdOpt7dVHl2NqCTtt4QqgY3FyAa9hsrKz02zi07TrSK3t4I1jgggjCJGijAVVHAAAwAOlS1dTF2g6dGPJF79W/8Uv0Vo%2BTBy0stAooplzc21lbyXl5cJFDEheWWVwqooGSSTwAB3rjJPHP2oP%2BS3/s4/8AZZr7/wBQrxRXs1eFfHjxV4Y8b/FD9mjxX4M8RWOraXe/GO/ez1HTLtJ4J1/4QvxSNySISrDIIyD2r3Wm007ME0wooopAFFFFABRRRQAUUUUAFFcz8LPjT8HPjnol34m%2BCfxZ8M%2BMdNsNSk06%2B1Dwtr1vqEFveRhWkt5JIHdUlUOhaMkMA6kjkUng742/Bn4ieL9d%2BHvw/wDi54Y13X/C04h8TaHo%2Bv291eaRISwCXUMbs9uxKsAJApyp9DQBwH7eH/JEND/7LN8OP/U10Su5%2BM3wI%2BEH7Qvg%2BTwH8Z/h/p3iDTHbfHDexfPbydpYZFIeGQdpI2Vh2NcN%2B3h/yRDQ/wDss3w4/wDU10SvZqqE505KUXZrqhNKSs1ofNi/C/8AbU/ZU/e/Azxp/wALi8Fw/d8EePNTFvr1lH/cs9VI2XIHaO7XOFA86uw%2BDf7c3wI%2BLficfDPU7/UPBXjlQPP8B%2BPLE6ZqgJ/55JIdl0pxkPA8ikc5r2OuS%2BMXwG%2BDP7QXhg%2BDvjV8NNI8S6eCWih1SzV2gY/xxSffhf8A20KsPWuz6zRr/wAeOv8ANGyfzXwv/wAlfmY%2BznD%2BG9Oz2%2BT3X4o62ivnFf2Vv2nPgL%2B//ZE/abnvtJi/1Xw/%2BLvm6tYqvQR2%2BoIRe2ygcKGM6j%2B7jinj9vXWvhMfsP7Zv7N3iv4crHxJ4q0yE694eYdA5vLNTJbg9cTwx4HU8E0vqUqmtCSn5LSX/gL1%2B5yH7ZR/iLl/L71%2Btj6Lqrreh6J4l0m40DxHo9rqFhdxGO6sr23WWGZD1V0YFWB9CMVj/DP4vfCr4z%2BH18V/CT4j6J4l01sf6boepxXUak/wsY2O1v8AZOCO4roq5JRnTlZppr5P9DVNNXR8261/wTJ%2BEPhfV7jxf%2ByZ8QfFvwP1qeQzSD4eamE0i5l7GfSbhZLKRR6LGh/2qrjxT/wVF%2BBB8nxR8N/Anx10WH5RqPhS/PhnXSo6u9pdtJZytj%2BGOeLPoO/01RXWsfWkrVkqi/vK7/8AAlaX4s05311Pm/Sf%2BCpn7MGl6lD4c/aAt/Fvwc1ed9kdj8V/C8%2BlQue5S9w9m6%2B6znP51734N8deCPiLocfif4feMtK13TZv9TqGjajFdQP9JI2ZT%2BBq7qukaVr2nTaPrmmW97aXCFLi1u4VkjlU9QysCGHsa8G8Y/8ABLr9iPxLrcni/wAMfB4eBdffldf%2BGerXXhy6R/7%2BdPkiR26n51bk560Xy%2BpupQfykvx5Zfiw9x%2BR9A18o/t1/tA3PxT1XTf2Cf2ZPiBbt4/8bagbXX9T0nUjv8K6dBtmuppmhOUkZFMYjJUsGYcErnY/4Y9/bC%2BHHHwE/wCCj/iua1j%2BZNI%2BK/haw8Rxuf7puYxa3QHbJkY%2BuTXzt8N9a/bX/wCCfP7VGofDnUvg38O/ihrXxv1fUPENrY%2BD9afSZ4LhCZblvMu4pHhhPJWGV2iBBKzKRID7GTYPDe2nWhONSdOLlCL91NrVuXMrWgvfte0rWbtv4OfOr7GnRjLlp1ZKE5a3ipaJLa3O/c5vs817dV9v/s%2B/sufAv9l7w03hn4L%2BALTSVnwdQv8AmW7vnH8c07kySHOTgnaMnAA4r0Cvmv8A4eD%2BN/CP%2Bj/Gv/gnz8dPDkyf8fFzonhq28RWaDuRLpdzM5A9fLHFTWH/AAVp/wCCf8l2mmeJ/j2vhW8c7Ws/G/h3UdEdG/un7dbxLx7Ej3rzK%2BEzTE1HVqRlOT3d%2Be/zTkexQwtPDUlSowUYrZJJJfJH0dRXnvgz9rf9lT4jBD8P/wBpj4f64X%2B6uk%2BMbK4J9sRyk59q7%2B3ube8gW5tLhJY3GUkjcMrD1BHWuCdOpTdpxa9U1%2BaRo01uPoooqBBRRRQAUUUUAFFFFABRVTWNe0Pw7aHUPEGtWljAvWe8uViQfixArzLxt%2B3j%2BxL8OQ48b/tcfDfTpE%2B9bz%2BNLLzvwjEpc/gK0p0a1V2pxb9E3%2BSY0m9j1iivmxv%2BCsv7F%2BsE2/wu8TeLPH90f9Xa%2BAPh1rOqmT/dkhtTEf8AvukP7cP7RnjX5fgj/wAE0vipfj/n68d6hpfhmD64nuZJ8f8AbHd/s10/2djV8UOX/E1H/wBKa/Irkl2PpSivmrf/AMFZ/iT923%2BCPwssp%2B7vqXijUbcfQCyty3/fQPtSH9gb4s/EL95%2B0j/wUG%2BLPiZW4l0rwhc2vhTT5F7oyadGLhl7c3BOOpNH1SlD%2BJWivS8n%2BCS/EOVLdn0oJY2kaJZFLKAWUHkZ6Z/KvFvhX4r%2BIHwu%2BPfi/wCD/wAaPixeeIbG%2B0aDxT4U1rWbS0tRBbCQ2t7ZAwRRRiOB/sjgsC5F58zMa6j9nz9lT4B/ssaTqOj/AAK%2BH6aKmsXCT6vcSahcXdzfSopVZJp7mSSWVgCRlmPWtDxJ%2Bzx8EvGfxT0741%2BM/htpuseJ9GtDbaLqurRG5OmoSSxtklLJbu2fmkjVXYABmIAAiM8PCU46uLWjsr30t1dtb312EnFXPmi2%2BCXibxP4p8JfBy4%2BHeqX%2BnWfiPxDJL44s9jaXqPhLV1up5VNyhIFy1x9ify9p3SRb8bSWHpHgP8AY58Xa3Pqc/7SfjXTdclPh/SNI0e98NwXFjdJJpzySRas0pkLRXpkkB/dnYnljGd7CvoLp0orWpmNeStHT8973v0v2Wg3NnO/C74X%2BFvhB4Qi8GeEjfSW63E1zcXeqajLd3V3cTSNJLPNNKzPI7uzMSTgZwAAAB0VFeefGv8Aax/Zw/Z1jUfGX4xaJol1Lj7PpUlz5t/cZ6CK0iDTyk%2BiIeorljGtiKlopyk%2B2r/AzlOMVeTseh1HdXVtY20l7e3EcMMSF5ZZXCqigZLEngADvXzu37UX7VfxwH2X9lb9lG70jTpeI/G/xjkfSLQDs8WnR7r24UjkbxAD6jrTrb9ge5%2BK1zHrf7bPx1174oyK4kXwrGP7I8NQMDlQNPtmzcbTxuuZJcjqBXR9UjS1rzUfJe9L7k7L5y%2BRj7Zy/hxv57L8dX8kWfFP/BQHwf4j165%2BHn7IngDVPjH4mtpDFdN4YlWLRNOk/wCnvVpP9Hj7/LGZZOMbM1nwfscfFj9om4j179vT4rx61p28SQ/CrwS81l4dhIOQLqQkXGpkEA/vSkWQf3WDX0F4Y8K%2BGPBOg23hXwZ4csNI0yyjEdnp2mWaQQQJ/dSNAFUewFX6f1uNHTDR5f7z1l9%2B0f8At1X/ALweyc/4jv5bL/g/P7jwz4/eHPD3hD4pfsz%2BGPCehWemabY/GC9hstP0%2B2SGC3jHgnxRhERAFVR6AAV7nXjP7UH/ACW/9nH/ALLNff8AqFeKK9mribbd2b7BRRRSAKKKKACiiigAooooA%2BVf2Fvil4ah%2BLPx206H4X/EXQrTxB8Zbe%2B8Nvrfwe8Q6Ta3Vk3h3RLFZo5LqwijEYuLG5QnICCMM2EdGbiP2FPh/wDEHS/jD8KfDGrfCjxRoeofCf4Z%2BMdB%2BJWvaz4aurKz1PU7/WdLmha1upY1i1Nbl7O7vvOt3lWMOPMKSTFa%2B4aKAPnj/goXpvxXn8H%2BDNR8OeNPD1r4Wh%2BMPw9GvaNe%2BGJ7jULxz4z0by2t7xb2OO2CttLB7aYsAQCmQRteOU/bn%2BGXjHUvFnw/l8L/ABO8L3d288PhHUANF1bToyeIba7XdBcKo/57qjHpv71P%2B3h/yRDQ/wDss3w4/wDU10SvZq0pVPZvZNPo1/wzXyZjXo%2B2ikpOLWzTt/mn6NNHiXg39vn4Fanr8PgX4sHVvhj4nmO1NA%2BI1gdNMzdP3FyxNtcAngGOVifQZxXtcM0NxCtxbyq8bqGR0bIYHoQR1FZvjHwR4M%2BIegzeFfH3hLTNb0y4GJ9O1exjuYJP95JAVP5V4tL%2BwTofgCZ9S/ZR%2BNPi74Vz7i66TpV7/aOiM56ltOvN8ag/9MjF7EVtbCVdm4Pz95feveX3M5r5hQ3SqLy92X3O8X8nE99oIBGCMg9RXgI%2BIf7fXwg/d/EL4JeGfijpcXXWPh7qn9makEHVnsL5jG7kc4juPoO1X/Df/BQv9mS%2B1eLwt8RPEuo/DrXJTgaL8StHm0WXPoslwBBJntskbPbqKHg67V4LmX913/Ba/gNZjhU7VG4PtNcv4v3X8pFj4lf8E/v2VviT4gbxzD8OT4W8UHJTxb4Dv5tE1JXP8Zms2j80/wDXQOPbiudHwN/b0%2BEIz8Ff2stK8d6dHxDoHxh8PgzhPQanpwjkLe8kEnvmvoHStW0rXdPi1bRNTt7y1nTdBc2syyRyL6qykgj6VYqo43ExXLN8yXSS5vz1XyaOj2NJ%2B9HTzWn5aP7j53H7Y3x/%2BG37n9o39hXxrZRLw2u/De6h8T2TAdZDHD5d3GvfBgJHv1r33QNbsvEug2XiPTUnW31C0jubdbq2eGUI6hlDxuAyNgjKsAQeCARVuo7uGW4tZbeC6eB3jZUnjVS0ZIwGAYEEjryCPUGsqtSlUtywUX1s3b7ne33suEZx3lf7jgPgp8TPiB458a/ELwv4y0vRkt/CXipNM0y%2B0eSXFxG9nBd7ZVk6SotxGrFTtJzgDGKi8B/tLeHPG7a3qc/gfxBomgaHJqAl8Xa1HapplwllM8VxKksc7siK0cnMqR8IxxgVxVpFD%2Bwv8P8AxR48%2BMP7SOi32malrl7rV1qHiTRY7O8ubiWBQsKm2kVJn3RIFWODcUG0AkA18sSfDf8A4KDftKfDbxT8XvgP8AfAPwo8KeNvD8Yn8HmRnv8AxERcmd78RCOKFZpVZwPO2l1fDFg4evXw%2BWUsVzVG4wp3ilNvljeyukmrt7uyTS%2B1a6PMxGYxw01SSc6lm%2BWK5pWvo3rZLpdtX6Xsz3Hxh/wUD%2BJnxh8b%2BIvhl%2Bwx8PNC1iHwvHbx%2BJviJ441V9O0nR5592yMwOqzTMMHO3GCMbSCCe8/Zk/ZE8Q/Dj4i6h%2B0h8dPjNc/EH4i65oyac%2BsGxitrHTrHzPN%2BzWcKD5ELEEsT82M7VLNn56%2BC/7O1r%2BzP4W8Lat%2B0HpOqN4W17xpqOseMV8Q6f8AbJ9RvksZIrSS/hh80Azyy3EwQlwrRWyMzPg19Zfsk%2BGvFXgf9mvwtovjnS30%2B/h0555NKMfOmxSSySxWYUdPIieOEL28rFb5jWoYTDyo4Gyg/dcre9NdbybbSuruMVFW5b3Zy4HB1cTWjiMc25r3lFv3ab6Wikk2k7c0uZ35mrI9KqG/0%2Bw1S0ew1OxhuYJBiSGeIOjD0IPBrwOL/gqN%2BxRaSLa%2BMvihqHhO5zh7bxl4Q1TSih9C1zbIn5Ma7fwn%2B2d%2ByH47Cjwd%2B1F8PtRd%2BkNr4wsmkHsU8zcD7EV4ksFjaavKnJfJ/mk/zPbVejJ6SX3oh8Z/sQ/sZ/EQu/jr9k/4b6tI/wB6e%2B8FWMkufUOYtwPuDXA3H/BI3/gna8z3Olfs2WWjSOcl/DWu6jpRz7fY7iLH4V9C6Trei69ai90PV7W9hPSa0uFkU/ipIq1ThjcdSVo1ZL/t6X5X/Q3U5W0Z82/8OufgZpvHgb4y/G7wwo%2B6mhfG3XUVfoJbl/1o/wCHct/bcaP/AMFAv2krMDoP%2BFjQXOP/AAKs5c/jX0lRVf2jjus7%2Bqi/zix88%2B582/8ADBnxmtONI/4Ka/HZAOn22fQrg/m2mDNH/DE37TacQf8ABUT4tAf9NNB8PMfz/s6vpKij%2B0MV3X/gMP8A5AOeX9W/yPm3/hiP9pSXi7/4KhfF1h38nRfD0Z/MadR/wwF8Ur0Y1v8A4KX/ALQMnqLHVdEts/8AfOlnFfSVFH9oYvo1/wCAw/8AkA55f1b/ACPm0/8ABN6C6/5Df7dn7SV6D94f8LWe1z/4CQxY/DFH/Dqn9l3VP%2BR88S/FXxVn73/CRfGfxDKG%2BoS8QGvpKij%2B0cd0qNell%2BUUHPPufO%2Bj/wDBJv8A4Jy6Pdi/b9krwvqU4/5beIEm1Nj9TdySZ/GvTfBP7Ln7M3w0ZG%2BHP7O3gXQDH/q20XwlZ2pX6GKJa7usvxH458E%2BD4jP4t8YaVpaAZL6jqEcAx9XYVE8Xja%2BkqkpeV5P8L/oS5ytqzUACgKoAAHAFFeReLv2/v2IPAwYeJf2tPh7DIn37eDxXazyj/tnE7P%2Blcwf%2BCnP7Lesfu/hkPHPjmb%2BGHwX8NdYvt30kFsIz%2BD0RwONmrqnK3o0vvdl%2BJi69BOzkvv/AOHPoSivnv8A4bI/aA8W8fCP/gnb8TLwf8/HjPUdL8PxfXE1zJLj/tnn2pDq/wDwVE8dfPYeDfgz8PbaXgjU9W1HxDeQj12wx2kJI/3yPaq%2Bo1Y/HKMfWUfyXMxe3g/hTfon%2Btj6Fql4g8SeHfCelya54q16y0yyhGZrzULpIYkHu7kAfia8H/4ZF/aa8ccfGr/goV42lgPJsPh5oGn%2BHYwe480JPcY/7ag%2BhFXNA/4JofsbafqkfiLxj8LJfHGrIctq3xG1q71%2BZ2/vEX0skYP%2B6gFHscHD46t/8MX%2BcuVfgHPWltG3q/8AK4viX/gpV%2Bx/peqyeGfBHxIn8fa0nC6J8NdGudfndv7u6yR41P8AvOorPP7Qv7cXxWPlfA/9jCHwpZS/6nxB8YfE0doVHqdOsPPnJ9neP8O3vPhvwt4Z8HaTHoPhDw5YaVYwjEVlptmkESfREAA/AVfp%2B3wlP%2BHSv5yd/wAI8q/FhyVZfFK3ov1d2fOx/ZE/aN%2BK/wC%2B/ab/AG2PEktpJ80nhf4W2KeG7EZ%2B9G1wrS3syY4/1yZ9OufQvgr%2ByH%2BzR%2BzxI158H/g1oukX8uftGtG3NxqE5PUyXcxeeTPP3nPU%2Btej155f/G/X9E%2BKWneCPEnwn1DT9H1rWJNK0fxDPqNs32q7W3luP%2BPdGLrEyQS7XJ3EocoowaTxOLrxcE7R7K0V9ytf53IksPQalLdu13d/jrb8D0Osrxh438L%2BAvDV/wCLvFeqi2sNNjD3sqRPKyAkAAJGGdmJYAKoJJIABzXhvxD%2BLXxK8KfEjxZ41HxAnh0vwd4l0izu/CUttB9lm0i8it0kuw4j87zRLP5gfzNqrCybOpPl3hj4bnUo7X4HfDfbpHjsaTfR%2BMIzbGJX1LTLxbrTdXuwoAkM9wFPn4PnJLKuTtwLp4JNc05aaf5u/wAmtddzirZm4ycKcLvVa9Xqlbvqno2nZfd9e%2BAfiL4R%2BJuiNr/g7UnnhjnaC5intZLee2mUAtDNDKqyQyAMpKOoYZGRzXm/xO/as8RaN44v/hL8D/2ePF3jzxNpzIl9Ilr/AGZo9k7osiibUboLGTsdWxCspwcYzxWp8CPDnjuPx/46%2BJHi7wPdeGIvE95p8keiXWpW9yWuLe0FvLdhoHZVEipBGASGK26syqWKj0%2BsH7GjVd1zL16%2Bdt7baNHUvrGIw6tLkd3d21tdrRS2vo9U7dtjwH4w3Hjy68efsw3PxP0zS7PX3%2BL16dUtdEu5J7WKX/hCvFPyxySIjMMY5KjnNe/V4z%2B1B/yW/wDZx/7LNff%2BoV4or2asG7u51xXLFK9wooopDCiiigAooooAKKKKACiiigDxn9vD/kiGh/8AZZvhx/6muiVN4ytf22PBHivUPEfw/wBT8G%2BO/D9xdPNb%2BGNYhk0fULOIniCG7j82KXA/iljUnu3rD%2B3h/wAkQ0P/ALLN8OP/AFNdEr2SOWKUExSK21ip2nOCOo%2BtXCfI9k/U5sVhliYpc8oNapxdn%2BTTXk00eIw/t0%2BB/CMq6d%2B0b8NfF3wxutwRrrxJpBn0x39E1C082Aj3dk%2BnSvWvBvjzwP8AETR08Q%2BAPGOl65YSfcvdI1CO5iP/AAONiK1JoYriJoJ4ldHUq6OuQwPUEHqK8l8Y/sNfsz%2BK9YfxVpfw/wD%2BEW11sldf8D302jXit/eL2jIHP%2B%2BGq70Jbpx/FfjZ/izi5M5w/wAMoVV/eXs5ffHmg/nGJ65VHxH4X8M%2BMdIl0Dxd4dsdVsJxiay1K0SeGQf7SOCp/EV45/wpD9rv4cfN8Iv2rovEVnH/AKnRfij4eS7JHob6zME34sr/AI9/SfhJqnxf1XwxI/xt8IaJo%2Bsw3jxLH4e1eS8tbmEKpWZWkijePLFhsYEjaDnnAUoci5oyT%2B9P7tzahjJ15%2ByrUJwduqUov/t6La%2BTSv2PMtU/4J1/s222oS678JbPxB8M9Tmbc998NfEdxpKk%2B9ujG2YezREdulQj4P8A7eXw4%2Bb4a/tWeHvGlqnyxaZ8TfCAjlC%2BhvdNaIk/7TQt75rovGmveIZfj7oekfDHx5rF7dfbIx4s0NFil0uw05YpC0krGPdDOz%2BWEVZN7E5KFFYibxR8avGum/tD2/wl0m10CDTv7Lt7h5dcN3by3ru0xkW1mWN4XaOOLc0Zw3zjkDmupV8VJJSalpf3kn%2Bev4nBJ5dTcmouFpqF4Oybf%2BF8vrdaPR3ehyzftJfta/D5CfjH%2Bw/qOo2sI/f6v8M/FdpqqNj%2BIW119lnA9gG/pXz/APEb/gr8fi/4js/Av7MmvaJ4B0a6iK6j8TfilZyR21vLkAwWsUe9HmUHOZW2E5BAGGPU/tt/8FKPhRJ8CvHXwy%2BF/iGVvEus2F3o3he506%2BtLhryczC1mIjhmaa2wrO6STJGrqu9GbFe%2B/shWXwmsf2d9A%2BFPw8ti9h4Z0a107ULG%2B0yWBxMYUkd3jnjQv5hcyeYAVfeWUkGvXpU8PgMEsXicNecpWinflskm5uLvfVpRXw3ve9kjy5YupmmOeCweN91RvJ6czd2lBSjZrROUmlzWtyvVs8q/Zy/ZB/ZW8ceJYfjL8Qfj5Z/tAeNFAePxBrOtW99Z2ffFrZRO0MCAgEA7ip5UrX1WAAMAYA6CvJ/HX7Cn7HPxIuDfeK/2bfCL3Zbcb%2Bx0eOzuSfXzrcJJn33Vzv/AA7%2B8DaB8vwn%2BPnxe8FRL/qrTRPiJdXNsh/643/2hMfhXm4rFRx81KrVlpok4qyXZKLSS8lFHtYTC1stg40aELPVuMmm33bmm2/NyfyPeqK8GHwB/bY8M8%2BC/wBvBdTij/1Vp41%2BG9jdbh6NNZvbP%2BOCaPt//BTHw589z4c%2BCniuJOq2eparo80g9hJHcoD/AMCxXL9Wi/hqRfza/Nfqdf12cfjozXolL/0mX6Hu8sUc0bQzRq6MMMrDII9CK4jxZ%2BzF%2BzX49LHxz%2Bz34H1kv986r4Ts7gn8ZIzXn/8Aw0V%2B2ZovPir/AIJ931zGv%2Bsm8LfEnS7z8Qlx9mc/TFH/AA3NqGnfJ4s/Yt%2BOemsv%2BsaHwRHqCD6GyuJiR%2BFXDD4uDvTf/gMl%2BkkJ5hgmvfuv8UJL84MNW/4JgfsA6tcm9/4Za8M2Mx6S6JFLp7D6G1ePH4VV/wCHZX7Munc%2BDNT%2BI3hsjodB%2BLWvQ7foGu2A/AVb/wCHj/7M9h8ni9fHPh1%2B8evfDDW4Nv1ItGUfiaktf%2BCl/wCwjdTC3l/aW8P2kh/5Z6n51ow%2BomjUiujnztLeb%2B9//JGX1vJr/HBfNL8%2BUoD/AIJ9Wlrxov7Z37QVkB90D4oS3OP/AAKil/Wj/hh/4nWP/ID/AOCiHxwi9BfX%2Bj3WP%2B%2B9OFdfpv7c/wCxbq4H2H9rP4cEnosnjSyjY/g8oNbdl%2B0/%2BzVqQB079obwNPnp5Pi2zbP5S1DxGZr4k/nBfrTNo1Mul8M4/Ka/%2BTPNv%2BGR/wBp%2B3407/gpP8RVA6fafC3h%2Bb%2BdiKT/AIZZ/bGXiL/gpl4wA/2/h34cb/2zr1yD42/Bi6GbX4u%2BGJB/0z1%2B2P8AJ6sL8Vvhc4yvxJ0A/TWIP/iqj63jFvFf%2BAR/%2BQNFHCvaX/k3/wBseN/8MrftgycXH/BTHxmR/wBM/h/4dT%2BVnS/8Mf8A7SF1xqn/AAUj%2BJzg9fsmg6DB/KwOK9if4tfCuIZk%2BJnh9R6trMA/9nqpc/Hf4H2YJvPjL4UiA6mTxFbL/N6Fisa9or/wCP8A8gDWFW8v/Jv/ALY8n/4YV8cXnza3/wAFBvjzOe62uv6Xaqf%2B/WnAj86P%2BHePhq848QftYfH3U1P3o5/i3ewo31W28oV6JfftXfst6WCdS/aT8AW4HXz/ABjYpj85awtU/b6/Yi0gE3f7Wfw9bHUW3iy1mP8A5DdqtV80l8Kfygv0pmUquWw%2BKpH5zX/yZzH/AA6%2B/Y/vvn8V%2BG/FviCQ/efxB8S9dut31VrzYf8AvmtTw5/wTX/YG8LyibTv2R/As7g536poMd8xPqTcB8mq7/8ABTT9hguY7D9oCw1FgcbdH0u9vT%2BAghfNN/4eJ/A7UuPBHgX4o%2BJifu/2F8KNZfd9DJbIKtyzpqzc0vVr9YmSxeTp6Tg/Sz/JSPU/CPwV%2BDfgAqfAfwl8M6IU%2B4dI0G3ttv08tBiumrwY/tqeOtY/deCP2E/jPfyH7japo1hpcR%2BrXV4rD8Vo/wCF4ft3a7%2B68PfsL6XpG/7tx4q%2BKlouz3aOyguM/QNXNLDYmTvNr5yX/wAk2arMMIlaCk/SE3/7ake80V4N/Zv/AAUw8S/urvxR8FvCcT9XsdM1TWJ4x7GSS2Qn6rSf8MvftSeKP3XxJ/4KB%2BKvIb79v4J8I6Xo%2BP8AdkeO4lH/AH2an6vTXxVYr0u/yX6j%2BuVZfBQm/Xlj%2Bcr/AIHvVcJ8RP2of2bvhIJB8TPjx4R0OSPO621HxBbxzE%2BgjL72PsATXAf8O5/gFrnz/FjxJ8QPHz/9Tn8Q9SuY/wDvzHLHDj22Y9q7v4d/sp/szfCUxyfDX4A%2BD9FmjxturDw9bpPkdzLs3sfck0cuDjvKUvRJfm3%2BQc%2BZT2hGPrJyf3RSX4nBn/gon8GPEfyfBXwD8RfiO3QSeDPAl49vntm5uVhgx/teZj3o/wCFt/t9fEL938P/ANlPwx4Kt25j1L4j%2BNBcSbfU2mmpJg%2BxmX0OK97oo9tQj8FNf9vNv8PdQfVsXU/iVn6RSj%2BL5mcN8EfC3x98PWeoXXx9%2BLOi%2BJb29ljezttA8MnTrbTVAbfGhaaWSYMSDucgjb05rK%2BJ3wr%2BL/jH43eG/HXhXxl4c03RfD%2Bl3CRx6lo095dC7nkRZZYws8Uan7OhjV237fNkOw5Fdh45%2BKnwx%2BGNn/aHxI%2BIuh6BBt3CXWdWhtVI9jIwzXl8/wC378CtYlaz%2BEWm%2BLfiLcoxVovAnhO6vIgfe5ZUtwPcyYpQdeU3UjHfy07eS/EwxOJyvCwVCvWSaadnO83Z32XNN/8AgJ3esfAX4b%2BLNY0vxP470Ya3q%2BkS%2BZaapeYjkOJBKiusARJUR1VlV1YKVB6812deHn4m/tyfEP5PAP7OfhvwRatymo/EPxN9qnKnv9j08NhvZp198Uh/ZZ%2BM/j/958ev2v8AxXfQty2i%2BBbaLw9Z4PVGeLfcyL25mGf0pSg2l7Sa0%2Bf4LT8TOGPcm/qmGnK/VpU0/VztJ/8AgDPQ/il8ffgn8E7P7b8WfinoegArujh1HUUSaX/rnFnfIfZVJrzr/hr7xt8Rv3H7NH7MvizxRE/%2Bq8Q%2BJIv7A0kqekiyXa%2BfMvtHCc%2Bvp2Hwu/ZO/Zy%2BDN5/a3w8%2BEOj2mpFtz6zcwG6v3buWupy8xP1evQ6nmoR2Tfrp%2BC/zL9jnGI/iVY0l2guaX/gc9F8oHgnxok8by/EH9mOT4kWulwa63xfvTqcWiTSSWiS/wDCFeKciJpVV2XGOWANe914z%2B1B/wAlv/Zx/wCyzX3/AKhXiivZqybu7nqQjyQUbt26vd%2Bu2vyCiiikUFFFFABRRRQAUUUUAfLvwG/bG%2BNvxA%2BMXhaTxtpnhZfAfxM1rxdpngqz0vTbmLVdLk0W7lihkvLh7l4rpbu3trmYrHDAbdvLjzPkyC78K/2p/i7rv7aXiv4G/FjxNonhnRbfxPc6b4A0C/8AhPrdpc%2BJ7aLS7e7Nxa69PdjT7uRXa7LW8EDSCO1ckAIzjovB37BngbwF8SZviN4X%2BLvjeAW11rN14U0J59OlsPC0%2BrXq3mpS2KPZF2aeUOP9JecQpNLHAIVfFb99%2By1B4i%2BOWi/Gvx78b/GviKHwtrVzq/hHwdqR0yPSdFvprO4smni%2BzWUV1MVtru6jQXNxMqidiBuVGUA4z/goX8XPhR4a8H%2BDPhR4j%2BJ3h7T/ABT4g%2BMPw9l0Hw1e61BFqGpJH4z0ZpGt7dnEkwVVYsUUgBSTjBrtfF/7Ifwp8Q%2BJb3x14Xv/ABD4P8QahO019rXg/X5rKS4kPJaSPLQyknrvjOe9Zf7eH/JEND/7LN8OP/U10Sum8RfFb4n%2BD9du4tZ%2BAeq6jo0c7C01Xw1qEN3K8eflZ7ZjHIpx1C7/AMayrV6dBJzvbyTf32Tt9x5uZUsuq0orGU%2BaKej5ZPldt7x96OnVNdrnOf8ACF/tofD7nwl8XvDHjuzXpZ%2BMtHbT7sKP4RdWWUZvdofr60f8NQ%2BPvB37v41fsteM9GVfv6l4bSPXbJV7sWtT5yj/AHoR710WiftR/A7V71dIv/G0eiageG07xLbSadMp9MXCoCfoTXe2l5aahbJeWF1HPDIMxywuGVh6gjg0qWIoV1enNS9Gn/wV80jgoYWFRXy/Gy06OUasV6qfvr/wNHAeBv2sP2b/AIjXX9neFfjHoj3u7adNvrr7Hdg%2BhguAkmf%2BA16ErKyhlIIIyCO9YHjn4UfDD4m2v2P4i/DvRNdj24UatpcVwVH%2ByXUlfqK%2BZ/22PhX8MP2Q/wBnTXvi18D9U8WeE9eTybLw3pXhfxVdR295qNxIsUCG1kZ4mUFt5RVGVRsYPNdmGw9XF4iFCmryk0l6v%2BtfJMrE4zOctw869eFOpCCbbjKUJWX92SnFvyUtXZdS98f/AI2fs9/AL4jX/gb9nzwTqvin4weKZ5JH8GeBNbnh33DkM93qARzb2%2BOC0siGTaeylmGfbfsA/Gn9qG/tvGP/AAUJ%2BN9zqll5rzw/C7wbPJZ6PZbiSsckysJLhlVmUvw4yQJCvW5%2BzF%2Bw7%2B0B%2Byb4JR/hh8WfB%2Boa9q0a3Xil/FHg8vNeXr/PNuv4JlnkQSM23eGx1xya9N/4Wj%2B2B4U/deL/ANmHSPECJzJe%2BCvGkYJHqIL6OE/hvJr1q%2BYUcHL2WB3X/L1/HK38vSEdNLXk1ZuS2Xh06cMReWa4epCLd1TjBuktb3l7OUnOT3fNFRTv7j3fkGk/8E0tD8E%2BCdRi0X4a%2BCzqelaCdO0KbRbBI77WFafdcS3NxKieVNNbA24AZkTzZDv2ttX3/wCDfhvxZL4x8XfFnxloNzo8/iW6tIdP0W8nikmtLO1hKJ5phd4/MeWSd8I7AKyDccVz/wDw2f4M0X/kpfwl%2BI/hJV/1lxrHgq4mgU/9dbMTIfrmtnwt%2B2B%2By54ykEGhfHrwuZicC2vNWjtZs%2BnlzFHz7YrzK2MxGI/iyu%2B7bf5tndl/%2Bq%2BErxWHrxi19ltRbdmk7SVOV0m0tPW71dX4jfHz4q/DnxleaWP2TfGPiLw/D5f2TxD4Wv8AT7lrjMas/wDoslxHKm1iy9Dnbkdaw/8Ahv34I6P8vxJ8MeP/AAY3/U0fDzUoUH/bSOGSPHvux717Npuq6XrNqt/o%2BpW93A/3ZraZZEP0KkirFZqdK1nD7m/%2BCe1LD5i5OdHE6PVKUIyXonGUXbtv6s8u8Lftt/sg%2BMmEeg/tKeDGkY4WC61%2BC3lJ9NkzK2fwr0LQvFPhjxRB9q8NeI7DUYsZ8yxvEmXH1QkVS8U/DD4a%2BOAy%2BNfh5oesBhhhqmkw3Gfr5imvPdd/YE/Yw8QT/arr9m3wray5yJdJ04WLA%2BoNsUI/Cn/s77r7n/kTfPIdKU/nUg/ymj16ivEh%2BwF8DdM58D%2BJfiF4YPb/AIR/4l6vEB9A9w4H0xij/hjrxTp3z%2BF/20fjHZsPurea/Z3yD6i5tHY/99UclF7T%2B9P9Gw%2BtZtH4sKn/AIasf/boxZ7bUV3ZWd/Ebe%2BtIpoz1SWMMPyNeL/8M/ftZ2Hy6N%2B3rqzoPurrHw%2B0m4x9TGkRP50f8Kx/by0zmw/at8FanjoNT%2BGDxZ%2Bphv8A%2BlHsodJr8f8AIP7RxS%2BLCVPl7N/lUR6TqXwc%2BEWsknV/hX4buiev2nQ7d8/99IaxL39lH9lvUiTqP7NngC4J6%2Bd4OsXz%2BcVcj/Zf/BRm0%2BWLxp8F74Do03h3VoGP/fN24/Sjz/8Ago5D/wAwv4JXH/b/AKxDn/yE9aL2sdqq/wDAmYyxtCXx4Sp/4Ki//bmbk/7EH7GFyd037JHwzJPUjwLp4P6Q1Xb9gz9iVzk/sk/Dn8PB1mP5R1l/23/wUXh/1nw4%2BDU3/XLxdqq/%2BhWNH/CU/wDBQxeD8G/hO3uvjjUB/Owq%2BfFL/l9/5O/8zN4jLnvg5/8Agg1Y/wBg/wDYmjOV/ZJ%2BHB/3vBlkf5x1btv2Kf2N7M7rX9kz4aRkfxL4E08H8/Jrn/8AhJ/%2BChz8L8H/AISp7v431E/ysKP7W/4KMzfc8B/BaD/rp4p1Zz%2BlkP50OeKe9b/yd/5gsRl62wc//BCO0sf2Yf2atLIOm/s8%2BBrfHTyPCVmmPyird0z4Y/DbRCDo3w90O0I6G10mGPH/AHyory7d/wAFHZv%2BWPwStv8AtrrE%2BP8Ax1KP7B/4KJ3/AMtz8TPg9p4P8Vn4R1Odh/38vVB/KoaqS%2BKov/AmzWONox%2BDCVP/AAXFf%2B3o9sSNIkEcaBVAwFUYApa8S/4VH%2B3NqHzX/wC2P4asM9U0v4Vo2Po01638qP8AhnD9pnU/k8S/t7eKjGeqaN4P0az/ACY28jD8zWfsodZr8f8AI1/tDFv4cJU%2Bbpr85s9torxI/sW3F7z4k/a7%2BNWoFvvKvjZLJT9BZwRED8apw/sKfskaxq82h%2BJ31zxPqdvGsl1ba/8AEbVLyZEbozxNdYAPqV5o5KC3n9y/zZLxeauyWHjG/wDNVj/7bBnrvib4m/DfwUrN4y%2BIOh6SF%2B8dT1aGDH13sK88179vv9jTw9c/Yrj9ovw1ez5wINEvDqLk%2BgW1EhJ9hVb4Xfsu/sEXsM178Lfgt8N9WFlcGGe6tdMtL9oZQASpkYOVbB9c16zoPhXwv4Vtvsfhfw3YabDjHlWFmkK/kgAo/wBnXd/cv8xU55ziIKUJUUn1XPU/G8Ys8g/4bq8E6zz8N/gf8V/FqN/q7jR/h7dQQt/21vRAg/E0f8Ly/bD8UfL4I/YrGlxSf6q98bePbO22j1aG0W5f8Mg17dWb4i8Y%2BEPCFv8Aa/FnirTdLixnzdRvo4Fx9XIFHtKS2h97b/yHPC47l5q%2BLcV/djTgvvlzv8TyL/hEP%2BCgfjEbNe%2BM3w48FRHnHhjwrc6rOPbzLyaNPx8r8DR/wxlqnij958Yv2q/ij4nL/wDHxZW2vpo1nKPTydOjhOPYua29b/bd/ZS0S7/s8fG3SNSue1t4fMmpyMfQLaLITVL/AIa1v9f/AHfwz/Zn%2BJmvM/8AqLmfw%2Bul2z%2B/m30kRx7hTR7eovhsvRL/AILPKlV4acuWpiHWfb2k6v8A5LTuvwNDwP8AsUfsofDu8/tTw18BvDzX27d/aWqWf2%2B63evn3Rkkz77q9Phhht4lgt4lREUKiIuAoHQADpXkH/CXftweLf8AkA/BzwN4Qi/56eJvE82pTY9fKs4kTPt5v40n/CiP2jPFv/JSf2u9UtYH5ksPA3h210wL7CeYTy49wRWcpzm7ybfqdmHxdGhDkwGCnbyhGlH75uL/APJWz1zUNS07SLOTUdVv4bW3iXMs9xKERB6liQBXmPiH9tT9mzRNRbQtL%2BI8XiLUxwuleELSbVp2b%2B7i0WQKf94iqNj%2Bxf8Aszx6zC/jnR7nxhrBUyJN448QXGqSyAdWEVxI0ePogFd38PtZ%2BFEM1z4K%2BG0Om2f9nsRLp%2BnWAto12sUYoAqq4DDaSmQDwSDWTqQUkm1dmjrZ1Vkot0qN9FdupL0svZwvb1OD/wCF6ftF%2BOhs%2BE37K1/YQScR6t8RNYi0xEPqbaHzpyPYqh/lQfgt%2B018QPn%2BLH7TTaLayf6zR/hvo6WWPb7ZcmWY/VQn%2BHquv%2BJvDfhWyOpeKPEFjptsOtxf3aQoP%2BBOQK4S5/as%2BFF3O9j4D/tjxfdI2Gg8J6NNeKPrKAIQPcvWVXFYag7VJpPtfX7tX%2BBhXwuEpu2YYuU2/s8ygn6QpWk/vkch8cPC1n4K%2BI/7MvhTT9Qv7uGx%2BMF7Glzql89zcSf8UV4oO6SWQlnY56k17xXhfx71a9134ofs0axqOgXWlz3Hxhvnk0%2B9ZDLAf%2BEK8UfK2xmXP0Jr3St4yUoprqe/SVONKKpq0bK2%2B1tN9du%2BvcKKKKZoFFFFABRRRQAUUUUAFFFFAHjP7eH/ACRDQ/8Ass3w4/8AU10SvUrLxv4O1HVZtCsfFOny31vKYp7NLtPNRwcEFM5/SvLf28P%2BSIaH/wBlm%2BHH/qa6JXpviX4d%2BBPGAP8AwlHhDTr5iP8AW3FopcfR8bh%2BBrixv9oqCeD5G76qfMk15OF2nfq015Ey5uhd1vw9oHiaybTPEeh2eoWzfet762SVD9VYEVwd3%2Byl8G47l9Q8IaVqHha7c5%2B1eFNXnsCP%2B2cbCM/ihq9dfBzQ/Dtu974W8f6/4diiG7ZDq5ltk9zHcb1A%2BmKZqI%2BM3gzS59bm%2BIXhjU9PtYGnubnXbRrHyolG5naWJigAAJLFQMeleJUx9eVX2eMwDlJJP93KnVaTdk7J06qTei93fTV6HJiMJhsQuevRTt1snb0ejXyaOU%2BI9t48/Z78GX3xE1b9rW3s/D%2BlReZcP4/0eC4jUZwFM8BhkZicAKAzMSAASa%2Bc/Dfiz9qL9vT4m%2BCPjb4i/Z/mn%2BFfgHVn1bQ7SG9XT28UakoxbX6w3bBvIiHzoGI3FiMncyra/wCFgeLP%2BCjHxo8PeMNU%2BD%2Bo33wQ%2BHOrzXBOmsl1B4t1uPKRyKkojMtpDljkKQxLKd24hfrWD49/DK022mt3t5ocgwog1nSp7Xb6DLJs/Wvoqua5DwxH2dSu6WKnDX2jlFUlNaJKpHl9q4vVOp%2B75uXl578vzNPCQzeo5U60oYZNWV2/aOLT5vf5kqakkkk/fs2/dSvk/wDDTuhaTx4%2B%2BF/jfw4F4kuL7w1JcQKf%2Butr5q49%2BK1fDn7SPwE8VuIdF%2BLmgtMTgW9xqCQS59PLlKt%2BldJovjLwj4kAPh7xTp19np9jvUk/9BJpniPwJ4I8YRmLxb4O0rVFIwV1HT45xj/gamuOjPEVqanQrQqR72Vv/AoSaPoVTzSC9yrCa/vRa/GEv0NG1u7W9gW6srmOaJxlZInDKfoR1rK8U/Dr4feOIzD418CaNrCEYK6ppcVwCPTEimuRuv2SvgC87Xmk%2BBTo87HIn0DUriwZT6gQSKPzFR/8M867pX7zwf8AtEePbBl%2B5He6nDqEQ/4DcxOx/wC%2Bq19rjo/FST/wyX5SS/MmpPHShy1sPGa8pxa%2B6cUUdS/YY/ZQv7tr%2B0%2BDVhpVw3/Lfw9cz6aw%2BhtZI8VB/wAMfWOmf8iX%2B0R8VtDVf9VBB4ze7iT2CXiTDHtWr/whH7UOjfPpHx10HV8dItd8H%2BXn6vbTp%2Biij%2B2v2ttI%2Be98B%2BBdaUdtO166s3b8JYHA/wC%2BjR9ca%2BOlNfK//pMn%2BR5bwGTJ3lgJQfeMLfjRqR/Iyv8AhSX7Uek/L4b/AGzbqeNfuReIvAthdceheDyGP1zR/Zn7eekfu7bxZ8KdbRej3mj6jYSN9THNMo/Ba1f%2BFwfGvTvm8Qfst6xsH3n0fxFYXf5K0kbH8qX/AIaVt7b/AJDXwO%2BI9iB95n8KNOq/jbvIKP7Qwq%2BJtesZL/20Xssph8NetT/7frL/ANLhNGT/AMJ9%2B2xovy6p%2Bzp4M1nHV9F%2BIEkGfoLizH6kUf8AC/P2itP%2BbX/2J/EQQdX0nxZpV1%2BQM0bH8hWt/wANb/A2D5dX1zVdNfump%2BGL%2BDH1LQY/WrNj%2B1d%2BzdqB2w/Gnw%2Bh9Lm/WHH18zGKazDAN29rH/wJL82hqeGvanmbXlKVF/8ApUIswP8AhrLV7X5dY/ZN%2BLlsR94xeG7a5X8DBcuT%2BVL/AMNneCbf/kNfCD4p6cO5vPhtqOB%2BKRsD%2BFdvY/G74Mang6d8XfDFxnp5Ov27fyeta08Z%2BD7/AAbHxXps2enlX0bZ/I1vGvQn8M0/Rp/kzqhDHz/h4%2BMv%2B4dJ/wDpNRHmX/DdP7OsPGp6t4lsW7reeAdYTH4/ZSKP%2BG9P2UF/1/xTaH/r50C/i/8AQ4BXrsU8M674JlceqMDTq1NvYZ70xFN/9wn%2BlU8f/wCG%2Bv2Ph9/466Un/XWGdf5xilH7fP7HB/5uC0D8ZXH/ALLXr9IVU9QD9aA9jn//AD%2Bpf%2BC5/wDy08hP7fX7HA6ftA6CfZZJD/JaP%2BG%2BP2Qj/q/jdp0n/XK0uH/9BjNevgAdBRQHsc//AOf1L/wXP/5aeQf8N5/srN/qPiRdT/8AXt4Y1KX/ANAtzR/w3J8Bp/8AkEL4v1A9hZfD3V2z/wB9Wwr1%2Bori%2BsrQZuryKIeskgX%2BdDaW4OhnttcTTXpSf61Tm/hZ8WtG%2BLenXWqaJ4Y8R6bFazCMjxH4euNPaXIzujWdVLr7jjPFcR8crK98L/Erw18Q9I1KSGIa3aQax5fia6M8iyN5KwRWBJt2Vt4LsNr/ACkgE816TefEDwHp%2Bft/jbSIMdfO1KJcfm1cnq/xD/ZUg8Sx%2BNNb8a%2BAP7agQJDqk%2BoWRu0UZwqyE7wBk8A9z61jLEYeHxTS9Wl%2BpnjYxq4KNKrXhzpp8zahs73SUn6WvZ63aueaftCX3h4%2BONY13U7m2l1mTSdOf4a3UTq0ss8d1%2B/gs36mZ2IV1Q7mRyDlQcQTeE7zUvHl74G0/Rbq28WT%2BIdda71MWUih9Nu7RykpnxtMe8xoi7sq0YAAC5Hpj/tX/sy6Wq2dr8WNFYIMJDp5abA9hEp/Sk/4aw%2BEd18ugReJdXbsumeDtQkz9CYQD%2BdYvMcB/wA/Y/Jp/lc8arhcpq4iVSeLhq7tKzeu%2BqbfN0jK11HTUxvgNp/iO78fQa3ceFNT0iHTfAVjousx6hpslskuoQSt/qdygTIq7x5iZUhkwfTqvin8KPG3xF1a2m0T4%2BeJvCmnxW3l3Fh4dt7MNO%2B4nzPOmgkdTggYHHGcZzWd/wANF6hefLoX7PPxGu2P3TNoUdqp%2BpuJkI/Kk/4Wj%2B0JqH/IH/ZhkgVvuyaz4wtIce5WESn8KX1/DP4W36Rk/wD21Ho0f7Mjgvq0pTqJu75Y1Ffb%2BRRstFdKVnq3vZZX/DFvgHVPl8efFL4k%2BJ0P3odZ8fXqxH/gFs0Sj8AK0fD37Fv7KXhif7Xp/wABPDc8%2Bc/aNUsBeyZ9d9xvbPvnNSfaP2vdU%2BaLTfh5oyN0E1ze30i/gqwqT%2BNH/Ctf2jNV%2BbXP2kobJW%2B/DoHhC3jwPQPcPKfxwKPrc5fBRm/ko/8ApUv0IhgcpUuanl7k%2B8oRv99Wc2d/onh3w/4atBYeHNCs9PgHSGytUiQfgoAq3uXds3DcRkDPOK81/wCGabLUf%2BRv%2BMvxA1lW/wBZDN4me2if22WqxDFb/wAP/gb8K/hdqU2teB/CSWl7cweTcXslzLPNJHuDbWkldmIyAevarhUxc5rmpqK85Xf3JW/E9ihUxrko%2BxjCH%2BNNpeSjG34opfGvxB8QPCOlR%2BJvCF40kNuR52nw6IbkyEZZmlkD5iiCA5KoWzjBOQtQfFHw/r/iu40TxX4bv7W60u2t5pLy0ufEdzYW0ysEaOUmAES4K8B8LhjzVz4rS6bqeoaR4O1G%2B1eKHUp2juxpd4IQYmxGBKcFirMwXCkHJ64rM8dado9m1zpEHg3R73TNE06HUbmw1ayNwHVd0YEW9tsW1I2OdpyRjAzmvGx2Y4Wk6/NJtRcU0rtqVnPbtypuW%2Bias3oYYjD1atSqm/dfLbV6SWulk7LuuvY42%2B1i11/WY/HKeHLuLWfEB0TU/Csj2bvKm5fKmtvMA%2BVY13NIpIBEhbB3V0vgbwT4v0jxb4e0O50C6ht/CsupodZaWMwXllOx8iJQG3l/9SWyuAYTydwrSj8Q%2BKUv5r2x1oiJ9Xk0q303yI1igBiDQOoC7twyGbJIIJwABTvhXqC/2pY2%2BmahNNDqHh1LzUoJ7t5nt7wMituLklS25wRwMxHivNw2aYapj4UuWV5S391X952dle95RbeqlCNrpq9saOWxjVU5Tbd09ElfW%2Bu%2B8le%2B6VlsdR4m%2BHvgTxreWeoeMPB2marNp282L6jZJN5BfbuK7wcE7V59hWpDDaafaiGCKOCGJcKiKFVFHsOAKxfGGheIfEU9vZaB8QZ9FVFY3cdnawySzA42kNID5eOeQDnI6Y5yE%2BAvge7cTeLbrVvEMgOQ2uarLMo/7ZgrH/47Xt18VmKxM4YPCqXRzlUhGLdl0ip1HbbVR%2B6zPW9moVHKMEm93or%2Bul38zi/2mLi3u/jR%2Bzfc2s6Sxv8AGW%2BKSRsGVh/whXijoR1r2mvEv2jtM03RvjB%2BzbpekWENrbQfGS%2BWG3t4giIP%2BEK8UcBRwK9tr16ftPZr2luayva9r9bX1tfa%2Bvc2VwoooqwCiiigAooooAKKKKAOY8OfG34MeMfiDrPwk8I/F3wxqvivw4iv4h8M6br9tPqGlq2NrXFsjmSAHcuC6jOR60Wvxt%2BDN98U7n4F2Xxc8MTeN7OwF7eeDotft21WC1IUid7QP5yxkOnzldvzLzyK%2BOP2ePD3jPwX8avAeh%2BIPhB4107Uvhj4n%2BJN/wCP/Ex8D6i1rqVtrGsSSWgtblICupG9ee1vWS3MphFo3niJ4wtXfB3w/wDiDF%2B1J4e%2BG8vwo8UQ69oP7TviTx7rXjOXw1dJpU3h280LU7e2kTUzH9mnkK3thp/2VZDMn2ZmMYjhV6APe/28P%2BSIaH/2Wb4cf%2Bproldf8Tvib8Hf2edJvPiZ8Wfibb%2BH9OKM0n9q6mfLdsgkRRElnfsEjBJzgCuG/bZ%2BD/7T/wAYfCmi6X8APFXgJbbSfGHhvXdQ8OeMNNvYX1VtL16x1Mxx6pbSyCxDJaFctYXW5iB8gbcvzF%2By3%2Bzp8efiNqWr/tI/EH9lP4Y/EbxcPHOv6W3iD4ifHbUpntpNL1i700pBbJ4YNvHEslozRkLu2lWxHny0ungMnxdWNbH3/dPmgor3uazWj5lGOmjclJa/C%2BnJi62ZU4qGDim5XTcnaMV5pJyk77JW21kj2rSP20vEX7TWvRaH%2Bz9%2Bzp49vNCuLdxF4y8ReHPsWlKxHyzIZJkecEYUAKCN%2B7GOaWw/Zk%2BPniWGTU/2sv2vh4ltpEWWHwZoOix6RYKI3DNGHU%2BdOG2lMthtrEA8g13g8b/8FCgMD9l74MgDoB8eNW/%2BZekfxp/wUHkAEn7LfwXYA5G7476scH/wlq8LNMloV542WBSp/WowjLnvVtyPmTjJpSjrZuK9z3bW5ZSvdCjUkqX1yo6jg21b3Iu6tZxi7S62cm3r3sdrplnZ%2BG9Ph0bwhZppGn6ULS20/SLONUiTcAzRlQP7rAcdOtaena9f6hfWxuhC9nqLTiCDyjuVEzhyxOCGA6Y/iFeXyeIP295dRXVpP2UfgsblBhZT8d9WyOCP%2BhX64J596g03Vf2/NLujdw/sx/B9yFZYUk%2BPerFYVY5KoP8AhFuASB69AK%2BfpZJxHQzBTVe8HO8rSa0TWri7p3hen7OFop8s23Y9d1sK6XLy2srLRfhbz1u/Q9T1r4QfC3xCxk1f4f6TK56zLZIkn/fSgN%2BtZv8AwonwtZf8iz4i8R6MOyab4gn2f98SM6/hivGJvjl%2B3Z4y%2BMut/A62/Zo%2BGdjqvhjwxpOu3V5a/H7VI4JYNSuNSt4UU/8ACMEs6tpU5YMoAEkeCxLBev0zxZ/wUQsLGOzn/Zu%2BD90yA5nn%2BPGq735J5x4WA9unavUnkuXYnMpxq5dBRtdVU4Jyel01BU6kXvq5NO3mjhlRoOCldX7Wa/HY7j/hX3xQ07jQ/jfdug%2B7Hq%2BjW9x%2BbII2/Wjb%2B0Lp/Ak8Iamq92W5tHb8vMGa47/hOP8AgoX/ANGv/Bn/AMPxq3/zL0f8Jx/wUL/6Nf8Agz/4fjVv/mXro/1ew0P4FatT/wANabX3T9ojL2a6N/f/AMOdj/wnHxesv%2BQl8EjMB959M8QwSZ9wsojNH/C5ZLbjV/hP4xtSPvMujidR%2BMLvXHf8Jx/wUL/6Nf8Agz/4fjVv/mXrl9W/aO/bt0f4z6B8Drj9lD4SNqniLwvq%2Bu2dynx11TyI4NOudNt5kcnwxuDs2qQFQFIISTJUhQx/ZebU/wCFj5/9v06M/wAlTYcs%2BkvyPWv%2BGgvhdF8up6te2Dd11DRrqHH1LR4/Wtrwp8RPA3jlpU8IeKbPUGhUNMltMGZAehI6ivM/%2BE4/4KF/9Gv/AAZ/8Pxq3/zL0xPF/wDwUCilaeP9lf4LK7j5nX466qCfqf8AhFq3w1HPadde3r05w62pyjL5NVJR%2B9DSqJ6tfd/wT0Px7421Lw7JBY%2BH9PjurgzQG780NshhklEYJx/ExJCj254qD4g65Da3DWFv4UsNTkgsJL29F/gKkCZGF%2BRsucHAOBxyRXk/i7S/22PGs0V5rf7IfwQe5jmif7X/AMLw1TzWWNwwQsfC2dpxgj0JxUHiWD/gov4gIki%2BAfwbt5JrGSxv5F%2BNuqMZ7Zznav8AxTACMASA3ONx4NedjaXEXNiXTd1Jx5OVq6SUrq01ZNvkbbck1zWtZJxOM5Jp6r%2Bu5395pfwn1rVo4rj4H%2BHrqwa4t7e5vbrTbcuksyBkAQxkMo3KGO4EE8A8mqWj/Cn9nDxbqkVnN%2Bz34bt4L6KWXS7tdHtlF2kbAOQqKCn3geeoNeSfF74k/t5fBewtPHGt/s1/CKXRb7xv4d0/%2BzLL416o0322/wBQs9Jtm8xvDaqIVmuYZZBtLYRyueEPU%2BF7X/god4eu9Nln/Z3%2BC9xDo9hNaadEvxu1dGVJGQku3/CMncwEajIC9z345aWFzyWKj7anFw5tbxpWteztpdQ5dY/a59HocssDhaj9%2BlB%2BsYf/ACJ6JL%2ByF%2BzTK2//AIU7pCH1hjaP/wBBYU3/AIZB/Z2H%2Bq%2BHnl/9cdWu0/8AQZRXF%2BLrv/goh4sigjh%2BBnwx0kwMx36R%2B0DqkZkzjht3hRsgY4%2BprD/4Rz/gpNH/AKjwX4IH/XT9oC9b%2Bfg%2BvQxVKdGu40sujUj/ADKVGN/%2B3ZJNW23IllOWX0w0P/AYr9Eeof8ADIvwCH3PCmoJ/wBc/FGor/K4o/4ZG%2BBPbw/rA%2BnjDVP/AJJry/8Asb/gp0v%2Br8IfD0f73xzu2/8AdQrl/jb8Qv8AgpN8B/gx4u%2BOPinwJ4DutL8GeGL/AF3UrWw%2BNNw1xNb2ltJcSJGH8JqpcrGQoZlGSMkDmufmr/8AQqf/AIHQ/wDkkT/ZWW/9A0fuie8f8MjfAjv4d1c/Xxfqh/8Abmj/AIZE%2BAHR/B96/wD108S6g38568v/ALK/4Khn73hP4c/h8bbof%2B6jR/Yn/BTZv9b4P%2BH5/wBz463a/wDuoUc1d7ZU/wDwOh/8kw/srLf%2BgaP3RPUP%2BGQP2cm/1vw0hl/676hcyf8AoUpqW3/ZI/ZptTmP4MaGx/6a2u//ANCJryr/AIRn/gpC/M/gjwU3sn7Qt8n8vCFH/CI/8FC3/wBf8NfBr/8AdyurJ/6B4UFC%2BudMqj86lD/5BjWVZatsLD/wGH/yLPZrP9nL9n6wwbb4I%2BFAR0ZvD9ux/MoTWvY/DD4aaXj%2BzPh5oVvjp5GkQpj8lrwL/hBv265P%2BP34IeBbn1E/7UHiD%2BnhkVy/wRvf2m/j38GPCHxy0H9jv4aDTfGfhfT9d0631n9pPX2nit7u2juI0lVfDzIHCyAMFLDIOCRzW0ZZyv4eApR9asf/AGygzeGEw9P4KMF6KK/KB9dImlaPDtRbe1jHYBUX%2BlUL34geA9Nz/aPjbSLfHXz9SiTH5tXz/B8Nv2o4H8wfsNfAiRvW4%2BOmryn/AMf8MGtOy0b9r/TsGw/Yc/Z9hI7x/GPUAfz/AOEVrZT4nltToQ9Z1ZflCB0r2iVkkvvPVrz49fBqybZJ8SNKkPYW9yJSfpszmoD8fPAFxxo0Wtak3ZdP8PXcmfofLAP51w9n4m/b509dth%2Byf8EoB6Q/HPVV/l4Wqf8A4Tj/AIKF/wDRr/wZ/wDD8at/8y9H1fiWp8WIpR/w0pS/GdVfigtV7r7v%2BCdj/wALc1q8%2BTRPgz4snY9DdWsNqp/GWUEflR/wlnxt1D5NP%2BEdhZZ6Sap4jU4%2Bqwxv/OvJvAP7R37dvxE8V%2BN/CGj/ALKHwkhuPAfiiLQtVkufjrqgSeeTStP1MPFt8MElPJ1GFSWCnejjGAGbqP8AhOP%2BChf/AEa/8Gf/AA/Grf8AzL0f2VmdT%2BLj6n/bkKUP/bJv8Q5JPeX5HY/2f%2B0DqXyXXiXwtpSnvZ6bPdOPxkkQH8q1/CPhrxho13Ld%2BKfiJcaz5ke1IG06G3jiOc7gEG4ntyxrzf8A4Tj/AIKF/wDRr/wZ/wDD8at/8y9H/Ccf8FC/%2BjX/AIM/%2BH41b/5l63w%2BS4ehWjWlVqzktuerNr/wFcsH84sagk73f3ne%2BN/hjH4vu31KHxLqNnOwt8JBcbYv3MhdCQoDZBZsYYYJzUXxA8Jf2jp73Rv5/tk0b2ipa7UFzAxJMEgYPlQu4lhhvvEEZNefXvin/gojd3NvPH%2Bzl8IIFgcs8UPx41TbN7NnwqTj6Y61yw%2BOn7bfjL4x658Cbn9kn4StqXhrw1pGv3Ny/wAedWW3eDUbjU7aFEK%2BGdxdW0ycuCoXEkeCxLBfNzPJFi8LjIYeioVKlkpOeknb4klzcrjzSSvHV62cW09qcKEakZT1XVa/5r8LHteq%2BFLC9bTvGGhaVMt2zQvIbV13FDHtDbZD5ZcKQocjcF4BqC5/sk3UmpWrtZObKWQyDEbvcwyYcybMCRu3ORjp1rzzT9S/b907Sk0a3/Zm%2BECwIm1Vi%2BPurxkck5BTwsCDzjrU8eu/t6RWiWP/AAyd8FHijfeiy/HbVnw2c7st4XJJz3614lfhfM8cud8lOU4wc1duPtYxSbjycsoptylKSacnGGmjOynXw1F%2B6r2btok7Pve%2BttPS56DEJBqqNJbFNRl1SKeNxEcvbsi7wWx91RvGCeqium1Szur%2Bwe0tNTltJGxi4hVSyjPONwI5HH415F/wnH/BQodP2Xvgz/4fjVv/AJl6P%2BE4/wCChf8A0a/8Gf8Aw/Grf/MvX0WVcPU8uw9ejOo5xq72vB7Su24yT53zO804t2j1jd41cS6koyStb5/n00216kP7SNo1j8Yv2bbR7ua4MfxkvgZp2Bd/%2BKK8UckgAZ/CvbK%2BV/if4l/at1f9pP8AZ0tfjX8F/h74f0cfFzUWjvvC3xOvtYuTP/whfibahgn0WyUIQWJfzSQQBsOSV%2BqK96lShRpRpwVlFJLd6JWWrbb9W2%2B7b1Odtyd2FFFFaCCiiigAooooAKKKKACqPijxDYeEvDWo%2BK9VDm10yxmu7kRLlvLjQu2B3OFNXqju7S1v7WWxvbdJoZo2jmilUMrqRgqQeCCOMUAfN/7Gv7Uvx8%2BKnjDRvCvx/wBN8JI/jf4T6d8QPC6%2BE9Pubf8Asu3uJQk%2BmXTT3EwupIRNabbuMQLKXl/cRbBu8rsP%2BCj3xl%2BHXwwPxp8S/D/wZdeG/Hfwv8V%2BOvhnoGhadcWNzZS2N7aC3tNSuHnlS5e8XU4Z5J4oYPJdJlKTblevefgB%2Bwv4Q/Z01W31fwn8ZfHWpy6dounaBoY1%2B5064GleH7J5Xg0aErZITb5l%2BeaQveSCKLfct5a4xtJ/4JnfAa2tPEHh7xJ4q8W6/wCHtW8Ja54Y0Pwxq2o2y2nhbSdXuEuL%2B105re3inQPJDblHnlnkhW2iSJ41XaQDpv2ZPi58Y/Efj7x/8C/j/d%2BGdQ8TeBbrTJl1zwho9xp1jqFjf2nmxN9muLm5eGVJYrmJh5zhljjkGzeY09irzv4Afs56V8Bj4h1i4%2BJHibxp4i8V6jDd%2BIPFnjCSzN9d%2BRbR20EW2ytra3jijijAVY4lyzyO255HZvRKACvl34DftjfG34gfGLwtJ420zwsvgP4ma14u0zwVZ6XptzFqulyaLdyxQyXlw9y8V0t3b21zMVjhgNu3lx5nyZB9RV4Z4O/YM8DeAviTN8RvC/xd8bwC2utZuvCmhPPp0th4Wn1a9W81KWxR7IuzTyhx/pLziFJpY4BCr4oAp658VPjj8PP21PCPwz1rUfAOu6V8RG1NF0jQ/C91ba7oOj2FrNPFqN3eveSx3VuLp4rUoLeALNqkexmw%2B7I/4Jw/tT/F39o/wL537RfifRLLx3/wjOkarrPw8t/hPrfhS%2B8ONdRymRZF1e7mfUYDKjxR3UCRxFraXlycJ1vgb9jT/hAf2lPFn7S%2BnftKfEK7vfGk6nWfD2pRaHNYrbxW7w2tlDL/AGYL2C1tzI80cKXIXznkkfeZZfM2Pg3%2By/bfC34i6p8X/Fvxp8ZfEHxTqWiW%2BjJrfjI6bG9np8Mskwt4YtNsrSBQ0srO7tG0jEIC%2B1FUAHqNFFFAHy7%2B01%2B2N8bfhX8U/GL/AA80zws3g34TaL4b1Px3bazptzNqOsR6pfXEU0djNHcxx2jW1rb%2BeGkiuBPJKIsQhTIZv2yP2lfiZ8Cv2hfB1nbav4e8JeBpPCOpXniX4i%2BI/hFrPiK202Rb2wRbSW9sLu3g0iGSNpZXnu28r/RlJ4Su2%2BM/7EPw4%2BN3xSPxM1zxz4q0uLUbXSLXxf4a0a6tU07xTBpd7Je2MV8stvJMFjmmlz9nlgMschimMsYVBP8AHT9km6/aE8Ey/DHx5%2B0t8Q4vDGqaPcaT4u0HTF0WGLxJZTlxNDcy/wBmmeENE7QFrSS3byz13/PQB55qX7Y3xttf2gLuWDTPC3/CsdP%2BM1n8NLmwfTbk63LeXGmwTjU1uvtPkLEt5cxW32U25Yxq8/ng4hr6irxe4/Yd%2BGs/x7/4XgPG3imO0fxTD4on8Bx3NoNDm16LTl06LU2T7N9p81bZIwIhcC38yJJjCZR5le0UAFfPX7Xn7RP7QHgP4gQfC79nC18Irqen/DXXfG%2Bs3HjLTbm6huoLCS1ih02EW9xAYJLh7iTN0xlWAQj9xMZML9C15H%2B0v%2Bx54P8A2mdQsta1H4k%2BL/COoW/h/U/D99qPg28tYZtS0XUPIN5p8xubacLHI1tCwliEdxEUJimj3vuAOa/ac%2BO/jKD9iv8A4a6%2BF/izwnoejab4LHjK8s/GvgO415rqFLVL22ggit9SsjHc%2BYECHMhMmwKobBrhr39rH9q34ffHXwH8NP2htc8H%2BCNIu/h94QvPFuu/8Kh17UdL1HxLqF7e22o6Vb6tFfrZ6QFaC0SD7YZmL3sf%2Bt4Q%2B4%2BPP2YfBfxH%2BGll8H/E/iTWW8Oad4o0nV7TSrUWkMaw6beW93a6YQluN1kJLWIMjZkdAUaQqxFVPjp%2By1B%2B0Frlsnjb43%2BNbfwks1jNqfw90w6ZHpWqyWtytzGZ5WsmvgGkSPekV1GjrGFK4Zw4B6pRRRQB4v8A8FBfi78cP2fv2R/Gnx6%2BAV74Uj1jwToV3rl1B4w0W5vra7tLW2lme3RLa6tmSV2RFEhcqgLEo/Aq7%2B2D8T/F3gTwd4a8C/D3TNBuNe%2BI/jK18KabL4q02S90y1WeGe4uZrm2jlha5RbS1ucQiWPzHKKXUEkan7WP7ONl%2B1p8CNe/Z91r4q%2BKfCOk%2BJ7KWx1y/wDCC6d9rubKWJ4prbdf2l1GiOr8siLICo2uvOc7xv8AsrSfEr4dWfgjx5%2B0F461HU9J1PTtU0DxiYtHg1PSdSsySt5CINOS2Z5AzrIksEkLJI6eWFYqQDwST9u79q3xlof/AAhnwz0bwBbeNvCeheOtS8cXOs6RezabqT%2BHNYGlR21lHHdpJaC%2BbdOJpJLj7IoCGO5J3D62%2BF/j3TPip8NPDvxP0S2lhsvEmhWmqWkM%2BN6RXEKSorY7gOAfevEPEP8AwTS%2BE%2BseBdJ8H6N8XPiBoN5Z6b4h07XfE%2Bi6lYrqXiS0127W91iK9eWzeMG5ulE3mW0cEsDZFu8CkqfoLQ9E0jwzoln4b8P6fFaWGn2sdtZWkC7UhhjUKiKOwCgAD0FAFqua%2BMUnxNh%2BGWsT/BzWtB07xLFa79MvfE2lTX1jEVYFzLBBPbySjyw%2BFWWP5iuWxmulrC%2BJng7VPiD4D1PwXo3xB1nwrcajb%2BSniDw/DZyXlmCQWaJb23uLckgFT5kLjDHABwQAcF8BPij8YP2hv2I/h/8AGvw/c%2BGtH8a%2BOPhxomuNLeaVcXGl2d5eWUFxKfsy3CTSRKZH2x%2BerEBQZOrV4Be/tmftRaD8HNPXwHpHhW6g0f453fgTUPHng74Na7r%2BjyaFZ6JdXL6jaaJpt611GsWowppLkXMsSSwStnaVC%2BxeEv2Gp/Bn7JafseaT%2B1v8V10G18EJ4V0rX4Z9EttY02xjRIonguLbS41WZIEEKylCdpLnMuJRo%2BD/ANkbxN8PfghpPwN8A/tefEbRLXQrhF0nV9L0TwrDcWtglusEempCuifY1tk2h1It/ODHHm7MIAD0L4O%2BN9N%2BJXwn8NfEDSPHGkeJrfWdDtbtPEPh%2B0a3sdSLxKxuIInllaGNySyxtJIyAhWdiCT0lcv8FfhD4N%2BAfwp0H4OfD%2BK5XSPD2npaWbX1y008oGS0ssjcvI7FnZu7MTgdK6igArxf9jn4u/HD4lXXxS8HfH698KXes/D/AOJjeHra%2B8H6Lc2FrcWraNpWpIWiubq5cyK2oPGXDhXEasETJFe0V4v8Cf2PNY%2BBPjTxf41tP2sviV4jk8ceK4fEGvWPiG08OiB7tLW3syE%2ByaRA6Rvb2ltEwD5xCGUq7OzAHhngj9v/AOKvg34b/GL4ifF6Dw1beLvDWl%2BINY0T4YN8KNa8M31/HZX76fZXjalf3UkWrW8ka6eslzaw7IvtMXIGxD7z%2BzJ8XPjH4j8feP8A4F/H%2B78M6h4m8C3WmTLrnhDR7jTrHULG/tPNib7NcXNy8MqSxXMTDznDLHHINm8xpma5%2BwR4G%2BImq%2BINV%2BPXxg8c/EM654J1fwlaQeJJ9Otk0XSdTkge9htP7NsrU%2BY5tLTE8xlmT7Mm11Jct2PwA/Zz0r4DHxDrFx8SPE3jTxF4r1GG78QeLPGElmb678i2jtoIttlbW1vHFHFGAqxxLlnkdtzyOzAHolFFFAHi/wAFfi78cNa/a4%2BLPwF%2BKl74UutH8MaF4e1zwhP4f0W5tbmK01K51mH7PePNdTLcSoumRN5kaQLmVxsOAa5/xJ8RP2lvCv7fngv4QaZ4q%2BHOq%2BHPF2kaxrHiGzg%2BH15b6zpeg6ciRW%2B/Uf7VeKWQ6hqNuqq1oqsjXRVVKk10Gi/seaxoH7RfjD9pLTv2sviUNQ8Z6VZaZe6E9p4dOn2dpZz3U1pFAP7I88eUb26UNJNIzLMd5cqhXtNL%2BBfhXS/jh4l/aBTVtTm1/wASeGNN0BvPmjMOnWVlLdzItsojBRnlvZXkZi%2B8pEOBGoAB47/wTh/an%2BLv7R/gXzv2i/E%2BiWXjv/hGdI1XWfh5b/CfW/Cl94ca6jlMiyLq93M%2BowGVHijuoEjiLW0vLk4T6Wry74N/sv23wt%2BIuqfF/wAW/Gnxl8QfFOpaJb6Mmt%2BMjpsb2enwyyTC3hi02ytIFDSys7u0bSMQgL7UVR6jQAV4P%2B1r8Zv2gvgN4k8L%2BLvBniDwRe%2BHta8XaF4dtvAt94cvJNc1y5vb5YblrS9jvVihMFq0l1sa0mHl2kzO8aAvH7xXjPxJ/Y5X4iftO6J%2B1Nb/ALR3xA0LVfD%2BhjStM0DTIdEuNLggebzblo0vtMuJoZbkCOOaWKVHaOGNFZAOQDhf22P2ofjN8LfGXiCz%2BDXhzwddJ8J/hTdfErxMPFmlT3M2owq11DFp9hJFcQixnlhtdQU3bidU3Rr5Lq7kVY/22fjFqHxrOvaVp3hc/CuL4vWHw6exl0u5/tyW5u9Mt7hdUW5%2B0%2BSkS3l1FbG1NuWMavN54OIa7j46fsI%2BCv2g2im8bfGDxxbTXfhe78MeL59IuNOgbxXoVzMJZNMvh9iKrF99Fkthbzok0oWUeY5Nqf8AYc%2BGk3x6/wCF3r418URWjeKYfFE/gKK5tBoc2vQ6cunRamyfZvtIlW2SMCIXAt/MiSYwmUeZQB7RRRRQAUUUUAFFFFABRRRQAUUUUAFFFFABRRRQAUUUUAFFFFABRRRQAUUUUAFFFFABRRRQAUUUUAFFFFABRRRQAUUUUAFFFFABRRRQAUUUUAFFFFABRRRQAUUUUAFFFFABRRRQAUUUUAFFFFABRRRQAUUUUAf/2Q%3D%3D\">"
      ]
     },
     "metadata": {},
     "output_type": "display_data"
    }
   ],
   "source": [
    "try:\n",
    "    display_html(HTML(anim.to_html5_video()))\n",
    "# In case the build-in renderers are unaviable, fall back to\n",
    "# a custom one, that doesn't require external libraries\n",
    "except RuntimeError:\n",
    "    anim.save(None, writer=matplotlib_utils.SimpleMovieWriter(0.001))"
   ]
  },
  {
   "cell_type": "markdown",
   "metadata": {},
   "source": [
    "# Logistic regression\n",
    "Your assignment is to implement the logistic regression\n",
    "\n",
    "Plan:\n",
    "* Use a shared variable for weights\n",
    "* Use a matrix placeholder for `X`\n",
    " \n",
    "We shall train on a two-class MNIST dataset\n",
    "* please note that target `y` are `{0,1}` and not `{-1,1}` as in some formulae"
   ]
  },
  {
   "cell_type": "code",
   "execution_count": 30,
   "metadata": {},
   "outputs": [
    {
     "name": "stdout",
     "output_type": "stream",
     "text": [
      "y [shape - (360,)]: [0 1 0 1 0 1 0 0 1 1]\n",
      "X [shape - (360, 64)]:\n"
     ]
    }
   ],
   "source": [
    "from sklearn.datasets import load_digits\n",
    "mnist = load_digits(2)\n",
    "\n",
    "X, y = mnist.data, mnist.target\n",
    "\n",
    "print(\"y [shape - %s]:\" % (str(y.shape)), y[:10])\n",
    "print(\"X [shape - %s]:\" % (str(X.shape)))"
   ]
  },
  {
   "cell_type": "code",
   "execution_count": 31,
   "metadata": {},
   "outputs": [
    {
     "name": "stdout",
     "output_type": "stream",
     "text": [
      "X:\n",
      " [[  0.   0.   5.  13.   9.   1.   0.   0.   0.   0.]\n",
      " [  0.   0.   0.  12.  13.   5.   0.   0.   0.   0.]\n",
      " [  0.   0.   1.   9.  15.  11.   0.   0.   0.   0.]]\n",
      "y:\n",
      " [0 1 0 1 0 1 0 0 1 1]\n"
     ]
    },
    {
     "data": {
      "image/png": "[encoded data removed]",
      "text/plain": [
       "<matplotlib.figure.Figure at 0x7fda5c539c18>"
      ]
     },
     "metadata": {},
     "output_type": "display_data"
    }
   ],
   "source": [
    "print('X:\\n',X[:3,:10])\n",
    "print('y:\\n',y[:10])\n",
    "plt.imshow(X[0].reshape([8,8]));"
   ]
  },
  {
   "cell_type": "markdown",
   "metadata": {},
   "source": [
    "It's your turn now!\n",
    "Just a small reminder of the relevant math:\n",
    "\n",
    "$$\n",
    "P(y=1|X) = \\sigma(X \\cdot W + b)\n",
    "$$\n",
    "$$\n",
    "\\text{loss} = -\\log\\left(P\\left(y_\\text{predicted} = 1\\right)\\right)\\cdot y_\\text{true} - \\log\\left(1 - P\\left(y_\\text{predicted} = 1\\right)\\right)\\cdot\\left(1 - y_\\text{true}\\right)\n",
    "$$\n",
    "\n",
    "$\\sigma(x)$ is available via `tf.nn.sigmoid` and matrix multiplication via `tf.matmul`"
   ]
  },
  {
   "cell_type": "code",
   "execution_count": 37,
   "metadata": {
    "collapsed": true
   },
   "outputs": [],
   "source": [
    "from sklearn.model_selection import train_test_split\n",
    "X_train, X_test, y_train, y_test = train_test_split(\n",
    "    X, y, random_state=42)"
   ]
  },
  {
   "cell_type": "markdown",
   "metadata": {},
   "source": [
    "__Your code goes here.__ For the training and testing scaffolding to work, please stick to the names in comments."
   ]
  },
  {
   "cell_type": "code",
   "execution_count": 38,
   "metadata": {
    "collapsed": true
   },
   "outputs": [],
   "source": [
    "# Model parameters - weights and bias\n",
    "weights = tf.Variable(tf.random_normal(shape=(X.shape[1],1), stddev=0.01, dtype=tf.float32))\n",
    "b = tf.Variable(0.0, dtype=tf.float32)"
   ]
  },
  {
   "cell_type": "code",
   "execution_count": 39,
   "metadata": {
    "collapsed": true
   },
   "outputs": [],
   "source": [
    "# Placeholders for the input data\n",
    "input_X = tf.placeholder(tf.float32, (None, None))\n",
    "input_y = tf.placeholder(tf.float32, (None, ))"
   ]
  },
  {
   "cell_type": "code",
   "execution_count": 40,
   "metadata": {
    "collapsed": true
   },
   "outputs": [],
   "source": [
    "# The model code\n",
    "\n",
    "# Compute a vector of predictions, resulting shape should be [input_X.shape[0],]\n",
    "# This is 1D, if you have extra dimensions, you can  get rid of them with tf.squeeze .\n",
    "# Don't forget the sigmoid.\n",
    "# predicted_y = <predicted probabilities for input_X>\n",
    "predicted_y = tf.squeeze(tf.sigmoid(tf.matmul(input_X, weights) + b))\n",
    "# Loss. Should be a scalar number - average loss over all the objects\n",
    "# tf.reduce_mean is your friend here\n",
    "# loss = <logistic loss (scalar, mean over sample)>\n",
    "loss = - tf.reduce_mean(input_y * tf.log(predicted_y) + (1-input_y) * tf.log(1-predicted_y))\n",
    "# See above for an example. tf.train.*Optimizer\n",
    "# optimizer = <optimizer that minimizes loss>\n",
    "optimizer = tf.train.AdamOptimizer(0.01).minimize(loss)"
   ]
  },
  {
   "cell_type": "markdown",
   "metadata": {},
   "source": [
    "A test to help with the debugging"
   ]
  },
  {
   "cell_type": "code",
   "execution_count": 41,
   "metadata": {},
   "outputs": [],
   "source": [
    "validation_weights = 1e-3 * np.fromiter(map(lambda x:\n",
    "        s.run(weird_psychotic_function, {my_scalar:x, my_vector:[1, 0.1, 2]}),\n",
    "                                   0.15 * np.arange(1, X.shape[1] + 1)),\n",
    "                                   count=X.shape[1], dtype=np.float32)[:, np.newaxis]\n",
    "# Compute predictions for given weights and bias\n",
    "prediction_validation = s.run(\n",
    "    predicted_y, {\n",
    "    input_X: X,\n",
    "    weights: validation_weights,\n",
    "    b: 1e-1})\n",
    "\n",
    "# Load the reference values for the predictions\n",
    "validation_true_values = np.loadtxt(\"validation_predictons.txt\")\n",
    "\n",
    "assert prediction_validation.shape == (X.shape[0],),\\\n",
    "       \"Predictions must be a 1D array with length equal to the number \" \\\n",
    "       \"of examples in input_X\"\n",
    "assert np.allclose(validation_true_values, prediction_validation)\n",
    "loss_validation = s.run(\n",
    "        loss, {\n",
    "            input_X: X[:100],\n",
    "            input_y: y[-100:],\n",
    "            weights: validation_weights+1.21e-3,\n",
    "            b: -1e-1})\n",
    "assert np.allclose(loss_validation, 0.728689)"
   ]
  },
  {
   "cell_type": "code",
   "execution_count": 42,
   "metadata": {},
   "outputs": [
    {
     "name": "stdout",
     "output_type": "stream",
     "text": [
      "loss at iter 0:0.4993\n",
      "train auc: 0.997694334651\n",
      "test auc: 1.0\n",
      "loss at iter 1:0.1972\n",
      "train auc: 0.99972551603\n",
      "test auc: 1.0\n",
      "loss at iter 2:0.1241\n",
      "train auc: 0.999945103206\n",
      "test auc: 1.0\n",
      "loss at iter 3:0.1031\n",
      "train auc: 0.999945103206\n",
      "test auc: 1.0\n",
      "loss at iter 4:0.0767\n",
      "train auc: 0.999945103206\n",
      "test auc: 1.0\n"
     ]
    }
   ],
   "source": [
    "from sklearn.metrics import roc_auc_score\n",
    "s.run(tf.global_variables_initializer())\n",
    "for i in range(5):\n",
    "    s.run(optimizer, {input_X: X_train, input_y: y_train})\n",
    "    loss_i = s.run(loss, {input_X: X_train, input_y: y_train})\n",
    "    print(\"loss at iter %i:%.4f\" % (i, loss_i))\n",
    "    print(\"train auc:\", roc_auc_score(y_train, s.run(predicted_y, {input_X:X_train})))\n",
    "    print(\"test auc:\", roc_auc_score(y_test, s.run(predicted_y, {input_X:X_test})))"
   ]
  },
  {
   "cell_type": "markdown",
   "metadata": {},
   "source": [
    "### Coursera submission"
   ]
  },
  {
   "cell_type": "code",
   "execution_count": 43,
   "metadata": {
    "collapsed": true
   },
   "outputs": [],
   "source": [
    "grade_submitter = grading.Grader(\"BJCiiY8sEeeCnhKCj4fcOA\")"
   ]
  },
  {
   "cell_type": "code",
   "execution_count": 44,
   "metadata": {
    "collapsed": true
   },
   "outputs": [],
   "source": [
    "test_weights = 1e-3 * np.fromiter(map(lambda x:\n",
    "    s.run(weird_psychotic_function, {my_scalar:x, my_vector:[1, 2, 3]}),\n",
    "                               0.1 * np.arange(1, X.shape[1] + 1)),\n",
    "                               count=X.shape[1], dtype=np.float32)[:, np.newaxis]"
   ]
  },
  {
   "cell_type": "markdown",
   "metadata": {},
   "source": [
    "First, test prediction and loss computation. This part doesn't require a fitted model."
   ]
  },
  {
   "cell_type": "code",
   "execution_count": 45,
   "metadata": {
    "collapsed": true
   },
   "outputs": [],
   "source": [
    "prediction_test = s.run(\n",
    "    predicted_y, {\n",
    "    input_X: X,\n",
    "    weights: test_weights,\n",
    "    b: 1e-1})"
   ]
  },
  {
   "cell_type": "code",
   "execution_count": 46,
   "metadata": {
    "collapsed": true
   },
   "outputs": [],
   "source": [
    "assert prediction_test.shape == (X.shape[0],),\\\n",
    "       \"Predictions must be a 1D array with length equal to the number \" \\\n",
    "       \"of examples in X_test\""
   ]
  },
  {
   "cell_type": "code",
   "execution_count": 47,
   "metadata": {
    "collapsed": true
   },
   "outputs": [],
   "source": [
    "grade_submitter.set_answer(\"0ENlN\", prediction_test)"
   ]
  },
  {
   "cell_type": "code",
   "execution_count": 48,
   "metadata": {
    "collapsed": true
   },
   "outputs": [],
   "source": [
    "loss_test = s.run(\n",
    "    loss, {\n",
    "        input_X: X[:100],\n",
    "        input_y: y[-100:],\n",
    "        weights: test_weights+1.21e-3,\n",
    "        b: -1e-1})\n",
    "# Yes, the X/y indices mistmach is intentional"
   ]
  },
  {
   "cell_type": "code",
   "execution_count": 49,
   "metadata": {
    "collapsed": true
   },
   "outputs": [],
   "source": [
    "grade_submitter.set_answer(\"mMVpM\", loss_test)"
   ]
  },
  {
   "cell_type": "code",
   "execution_count": 50,
   "metadata": {
    "collapsed": true
   },
   "outputs": [],
   "source": [
    "grade_submitter.set_answer(\"D16Rc\", roc_auc_score(y_test, s.run(predicted_y, {input_X:X_test})))"
   ]
  },
  {
   "cell_type": "markdown",
   "metadata": {},
   "source": [
    "Please use the credentials obtained from the Coursera assignment page."
   ]
  },
  {
   "cell_type": "code",
   "execution_count": 51,
   "metadata": {},
   "outputs": [
    {
     "name": "stdout",
     "output_type": "stream",
     "text": [
      "Submitted to Coursera platform. See results on assignment page!\n"
     ]
    }
   ],
   "source": [
    "grade_submitter.submit('sajin.stanislav@gmail.com', 'huZYEAn1jQ0yfJlC')"
   ]
  },
  {
   "cell_type": "code",
   "execution_count": null,
   "metadata": {
    "collapsed": true
   },
   "outputs": [],
   "source": []
  }
 ],
 "metadata": {
  "kernelspec": {
   "display_name": "Python 3",
   "language": "python",
   "name": "python3"
  },
  "language_info": {
   "codemirror_mode": {
    "name": "ipython",
    "version": 3
   },
   "file_extension": ".py",
   "mimetype": "text/x-python",
   "name": "python",
   "nbconvert_exporter": "python",
   "pygments_lexer": "ipython3",
   "version": "3.6.0"
  }
 },
 "nbformat": 4,
 "nbformat_minor": 1
}
