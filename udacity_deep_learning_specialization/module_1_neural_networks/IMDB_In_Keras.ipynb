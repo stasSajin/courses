{
 "cells": [
  {
   "cell_type": "markdown",
   "metadata": {},
   "source": [
    "# Analyzing IMDB Data in Keras"
   ]
  },
  {
   "cell_type": "code",
   "execution_count": 54,
   "metadata": {},
   "outputs": [],
   "source": [
    "# Imports\n",
    "import numpy as np\n",
    "import keras\n",
    "from keras.datasets import imdb\n",
    "from keras.models import Sequential\n",
    "from keras.layers import Dense, Dropout, Activation\n",
    "from keras.preprocessing.text import Tokenizer\n",
    "import matplotlib.pyplot as plt\n",
    "from keras import regularizers\n",
    "from keras.callbacks import EarlyStopping\n",
    "%matplotlib inline\n",
    "\n",
    "np.random.seed(42)"
   ]
  },
  {
   "cell_type": "markdown",
   "metadata": {},
   "source": [
    "## 1. Loading the data\n",
    "This dataset comes preloaded with Keras, so one simple command will get us training and testing data. There is a parameter for how many words we want to look at. We've set it at 1000, but feel free to experiment."
   ]
  },
  {
   "cell_type": "code",
   "execution_count": 38,
   "metadata": {},
   "outputs": [
    {
     "name": "stdout",
     "output_type": "stream",
     "text": [
      "(25000,)\n",
      "(25000,)\n"
     ]
    }
   ],
   "source": [
    "# Loading the data (it's preloaded in Keras)\n",
    "(x_train, y_train), (x_test, y_test) = imdb.load_data(num_words=1000)\n",
    "\n",
    "print(x_train.shape)\n",
    "print(x_test.shape)"
   ]
  },
  {
   "cell_type": "markdown",
   "metadata": {},
   "source": [
    "## 2. Examining the data\n",
    "Notice that the data has been already pre-processed, where all the words have numbers, and the reviews come in as a vector with the words that the review contains. For example, if the word 'the' is the first one in our dictionary, and a review contains the word 'the', then there is a 1 in the corresponding vector.\n",
    "\n",
    "The output comes as a vector of 1's and 0's, where 1 is a positive sentiment for the review, and 0 is negative."
   ]
  },
  {
   "cell_type": "code",
   "execution_count": 39,
   "metadata": {},
   "outputs": [],
   "source": [
    "#print(x_train[0])\n",
    "#print(y_train[0])"
   ]
  },
  {
   "cell_type": "markdown",
   "metadata": {},
   "source": [
    "## 3. One-hot encoding the output\n",
    "Here, we'll turn the input vectors into (0,1)-vectors. For example, if the pre-processed vector contains the number 14, then in the processed vector, the 14th entry will be 1."
   ]
  },
  {
   "cell_type": "code",
   "execution_count": 40,
   "metadata": {},
   "outputs": [],
   "source": [
    "# One-hot encoding the output into vector mode, each of length 1000\n",
    "tokenizer = Tokenizer(num_words=1000)\n",
    "x_train = tokenizer.sequences_to_matrix(x_train, mode='binary')\n",
    "x_test = tokenizer.sequences_to_matrix(x_test, mode='binary')\n",
    "#print(x_train[0])"
   ]
  },
  {
   "cell_type": "markdown",
   "metadata": {},
   "source": [
    "And we'll also one-hot encode the output."
   ]
  },
  {
   "cell_type": "code",
   "execution_count": 41,
   "metadata": {},
   "outputs": [
    {
     "name": "stdout",
     "output_type": "stream",
     "text": [
      "(25000, 2)\n",
      "(25000, 2)\n"
     ]
    }
   ],
   "source": [
    "# One-hot encoding the output\n",
    "num_classes = 2\n",
    "y_train = keras.utils.to_categorical(y_train, num_classes)\n",
    "y_test = keras.utils.to_categorical(y_test, num_classes)\n",
    "print(y_train.shape)\n",
    "print(y_test.shape)"
   ]
  },
  {
   "cell_type": "code",
   "execution_count": 42,
   "metadata": {},
   "outputs": [
    {
     "data": {
      "text/plain": [
       "(25000, 1000)"
      ]
     },
     "execution_count": 42,
     "metadata": {},
     "output_type": "execute_result"
    }
   ],
   "source": [
    "x_train.shape"
   ]
  },
  {
   "cell_type": "markdown",
   "metadata": {},
   "source": [
    "## 4. Building the  model architecture\n",
    "Build a model here using sequential. Feel free to experiment with different layers and sizes! Also, experiment adding dropout to reduce overfitting."
   ]
  },
  {
   "cell_type": "code",
   "execution_count": 74,
   "metadata": {},
   "outputs": [
    {
     "name": "stdout",
     "output_type": "stream",
     "text": [
      "_________________________________________________________________\n",
      "Layer (type)                 Output Shape              Param #   \n",
      "=================================================================\n",
      "dense_39 (Dense)             (None, 512)               512512    \n",
      "_________________________________________________________________\n",
      "activation_37 (Activation)   (None, 512)               0         \n",
      "_________________________________________________________________\n",
      "dropout_26 (Dropout)         (None, 512)               0         \n",
      "_________________________________________________________________\n",
      "dense_40 (Dense)             (None, 64)                32832     \n",
      "_________________________________________________________________\n",
      "activation_38 (Activation)   (None, 64)                0         \n",
      "_________________________________________________________________\n",
      "dropout_27 (Dropout)         (None, 64)                0         \n",
      "_________________________________________________________________\n",
      "dense_41 (Dense)             (None, 2)                 130       \n",
      "_________________________________________________________________\n",
      "activation_39 (Activation)   (None, 2)                 0         \n",
      "=================================================================\n",
      "Total params: 545,474\n",
      "Trainable params: 545,474\n",
      "Non-trainable params: 0\n",
      "_________________________________________________________________\n"
     ]
    }
   ],
   "source": [
    "# TODO: Build the model architecture\n",
    "model = Sequential()\n",
    "model.add(Dense(512, input_dim = x_train.shape[1], kernel_regularizer=regularizers.l2(0.01)))\n",
    "model.add(Activation('relu'))\n",
    "model.add(Dropout(0.4))\n",
    "model.add(Dense(64, kernel_regularizer=regularizers.l2(0.1)))\n",
    "model.add(Activation('relu'))\n",
    "model.add(Dropout(0.4))\n",
    "model.add(Dense(2))\n",
    "model.add(Activation('softmax'))\n",
    "\n",
    "# TODO: Compile the model using a loss function and an optimizer.\n",
    "model.compile(loss = 'categorical_crossentropy', optimizer='adam', metrics=['accuracy'])\n",
    "model.summary()"
   ]
  },
  {
   "cell_type": "markdown",
   "metadata": {},
   "source": [
    "## 5. Training the model\n",
    "Run the model here. Experiment with different batch_size, and number of epochs!"
   ]
  },
  {
   "cell_type": "code",
   "execution_count": null,
   "metadata": {},
   "outputs": [
    {
     "name": "stdout",
     "output_type": "stream",
     "text": [
      "Train on 20000 samples, validate on 5000 samples\n",
      "Epoch 1/100\n",
      " - 2s - loss: 3.9200 - acc: 0.7772 - val_loss: 0.6139 - val_acc: 0.8036\n",
      "Epoch 2/100\n",
      " - 1s - loss: 0.5447 - acc: 0.8308 - val_loss: 0.5048 - val_acc: 0.8442\n",
      "Epoch 3/100\n",
      " - 1s - loss: 0.5121 - acc: 0.8351 - val_loss: 0.4940 - val_acc: 0.8406\n",
      "Epoch 4/100\n",
      " - 1s - loss: 0.4955 - acc: 0.8377 - val_loss: 0.4942 - val_acc: 0.8348\n",
      "Epoch 5/100\n",
      " - 1s - loss: 0.4861 - acc: 0.8432 - val_loss: 0.4662 - val_acc: 0.8424\n",
      "Epoch 6/100\n",
      " - 1s - loss: 0.4786 - acc: 0.8395 - val_loss: 0.4562 - val_acc: 0.8516\n",
      "Epoch 7/100\n",
      " - 1s - loss: 0.4714 - acc: 0.8453 - val_loss: 0.4517 - val_acc: 0.8526\n",
      "Epoch 8/100\n",
      " - 1s - loss: 0.4706 - acc: 0.8425 - val_loss: 0.4457 - val_acc: 0.8574\n",
      "Epoch 9/100\n",
      " - 1s - loss: 0.4632 - acc: 0.8438 - val_loss: 0.4561 - val_acc: 0.8446\n",
      "Epoch 10/100\n",
      " - 1s - loss: 0.4611 - acc: 0.8460 - val_loss: 0.4448 - val_acc: 0.8490\n",
      "Epoch 11/100\n",
      " - 1s - loss: 0.4593 - acc: 0.8444 - val_loss: 0.4351 - val_acc: 0.8594\n",
      "Epoch 12/100\n",
      " - 1s - loss: 0.4580 - acc: 0.8463 - val_loss: 0.4323 - val_acc: 0.8604\n",
      "Epoch 13/100\n",
      " - 1s - loss: 0.4526 - acc: 0.8478 - val_loss: 0.4323 - val_acc: 0.8570\n",
      "Epoch 14/100\n",
      " - 1s - loss: 0.4502 - acc: 0.8486 - val_loss: 0.4428 - val_acc: 0.8534\n",
      "Epoch 15/100\n",
      " - 1s - loss: 0.4505 - acc: 0.8470 - val_loss: 0.4267 - val_acc: 0.8576\n",
      "Epoch 16/100\n",
      " - 2s - loss: 0.4466 - acc: 0.8492 - val_loss: 0.4278 - val_acc: 0.8582\n",
      "Epoch 17/100\n",
      " - 1s - loss: 0.4468 - acc: 0.8504 - val_loss: 0.4319 - val_acc: 0.8564\n",
      "Epoch 18/100\n",
      " - 1s - loss: 0.4409 - acc: 0.8500 - val_loss: 0.4223 - val_acc: 0.8580\n",
      "Epoch 19/100\n",
      " - 2s - loss: 0.4387 - acc: 0.8498 - val_loss: 0.4265 - val_acc: 0.8570\n",
      "Epoch 20/100\n",
      " - 1s - loss: 0.4432 - acc: 0.8500 - val_loss: 0.4399 - val_acc: 0.8438\n",
      "Epoch 21/100\n",
      " - 1s - loss: 0.4373 - acc: 0.8508 - val_loss: 0.4234 - val_acc: 0.8534\n",
      "Epoch 22/100\n",
      " - 1s - loss: 0.4380 - acc: 0.8533 - val_loss: 0.4246 - val_acc: 0.8534\n",
      "Epoch 23/100\n",
      " - 1s - loss: 0.4326 - acc: 0.8535 - val_loss: 0.4314 - val_acc: 0.8552\n",
      "Epoch 24/100\n",
      " - 2s - loss: 0.4377 - acc: 0.8497 - val_loss: 0.4286 - val_acc: 0.8576\n",
      "Epoch 25/100\n",
      " - 1s - loss: 0.4362 - acc: 0.8523 - val_loss: 0.4214 - val_acc: 0.8630\n",
      "Epoch 26/100\n",
      " - 1s - loss: 0.4299 - acc: 0.8547 - val_loss: 0.4322 - val_acc: 0.8478\n",
      "Epoch 27/100\n",
      " - 1s - loss: 0.4305 - acc: 0.8547 - val_loss: 0.4408 - val_acc: 0.8414\n",
      "Epoch 28/100\n",
      " - 1s - loss: 0.4291 - acc: 0.8551 - val_loss: 0.4251 - val_acc: 0.8602\n",
      "Epoch 29/100\n",
      " - 1s - loss: 0.4300 - acc: 0.8564 - val_loss: 0.4216 - val_acc: 0.8546\n",
      "Epoch 30/100\n",
      " - 1s - loss: 0.4265 - acc: 0.8575 - val_loss: 0.4245 - val_acc: 0.8602\n",
      "Epoch 31/100\n",
      " - 1s - loss: 0.4267 - acc: 0.8574 - val_loss: 0.4447 - val_acc: 0.8404\n",
      "Epoch 32/100\n",
      " - 1s - loss: 0.4242 - acc: 0.8597 - val_loss: 0.4278 - val_acc: 0.8540\n",
      "Epoch 33/100\n"
     ]
    }
   ],
   "source": [
    "# TODO: Run the model. Feel free to experiment with different batch sizes and number of epochs.\n",
    "model.fit(x_train, y_train, epochs=100, validation_split=0.2, batch_size=128, verbose=2,\n",
    "         callbacks=[EarlyStopping(patience=10)])"
   ]
  },
  {
   "cell_type": "markdown",
   "metadata": {},
   "source": [
    "## 6. Evaluating the model\n",
    "This will give you the accuracy of the model, as evaluated on the testing set. Can you get something over 85%?"
   ]
  },
  {
   "cell_type": "code",
   "execution_count": null,
   "metadata": {},
   "outputs": [],
   "source": [
    "score = model.evaluate(x_test, y_test, verbose=0)\n",
    "print(\"Accuracy: \", score[1])"
   ]
  }
 ],
 "metadata": {
  "kernelspec": {
   "display_name": "Python 3",
   "language": "python",
   "name": "python3"
  },
  "language_info": {
   "codemirror_mode": {
    "name": "ipython",
    "version": 3
   },
   "file_extension": ".py",
   "mimetype": "text/x-python",
   "name": "python",
   "nbconvert_exporter": "python",
   "pygments_lexer": "ipython3",
   "version": "3.6.2"
  }
 },
 "nbformat": 4,
 "nbformat_minor": 2
}
